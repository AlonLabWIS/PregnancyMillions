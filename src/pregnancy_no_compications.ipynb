{
 "cells": [
  {
   "cell_type": "code",
   "execution_count": null,
   "id": "a0ee39b1-3925-4c49-8ac1-46e74183a236",
   "metadata": {
    "ExecuteTime": {
     "end_time": "2024-10-28T13:21:11.041962Z",
     "start_time": "2024-10-28T13:21:08.514410Z"
    }
   },
   "outputs": [],
   "source": [
    "# Standard library imports\n",
    "import os\n",
    "import string\n",
    "import warnings\n",
    "\n",
    "# Third-party imports\n",
    "import numpy as np\n",
    "import pandas as pd\n",
    "import matplotlib.pyplot as plt\n",
    "import matplotlib.cm as cm\n",
    "from matplotlib.axes._axes import _log as matplotlib_axes_logger\n",
    "from matplotlib.colors import Normalize\n",
    "from matplotlib.gridspec import GridSpec\n",
    "import seaborn as sns\n",
    "from adjustText import adjust_text\n",
    "from scipy import stats\n",
    "from scipy.interpolate import interp1d\n",
    "from scipy.stats import rankdata, spearmanr, pearsonr, linregress\n",
    "from scipy.cluster.hierarchy import linkage, fcluster\n",
    "from scipy.spatial.distance import squareform\n",
    "from scipy.optimize import curve_fit\n",
    "\n",
    "# SymPy imports\n",
    "from sympy import *\n",
    "\n",
    "# scikit-learn imports\n",
    "from sklearn.linear_model import LinearRegression\n",
    "from sklearn.decomposition import PCA\n",
    "from sklearn.cluster import KMeans\n",
    "from sklearn.metrics import r2_score\n",
    "\n",
    "# Statsmodels imports\n",
    "from statsmodels.stats.multitest import fdrcorrection\n",
    "\n",
    "# qpsolvers import\n",
    "from qpsolvers import solve_qp\n",
    "\n",
    "# tqdm imports\n",
    "from tqdm.notebook import tqdm, trange"
   ]
  },
  {
   "cell_type": "code",
   "execution_count": null,
   "id": "3997afd3-8a2d-431c-b9a6-01d54ab3fed2",
   "metadata": {
    "ExecuteTime": {
     "end_time": "2024-10-28T13:21:11.110577Z",
     "start_time": "2024-10-28T13:21:11.094953Z"
    }
   },
   "outputs": [],
   "source": [
    "# Setup logging and globabl plotting parameters\n",
    "warnings.filterwarnings(\"ignore\")\n",
    "matplotlib_axes_logger.setLevel('ERROR')\n",
    "np.seterr(divide='ignore', invalid='ignore')\n",
    "def_color  = [x['color'] for x in plt.rcParams['axes.prop_cycle']]\n",
    "init_printing()\n",
    "plt.rc('font', size=8) \n",
    "plt.rc('xtick', labelsize=8) \n",
    "plt.rc('ytick', labelsize=8) \n",
    "plt.rc('axes', titlesize=8) \n",
    "plt.rcParams[\"figure.dpi\"] = 100\n",
    "plt.rcParams['font.family'] = 'sans-serif'\n",
    "plt.rcParams[\"svg.fonttype\"] = \"none\""
   ]
  },
  {
   "cell_type": "code",
   "execution_count": null,
   "id": "92cf2457-b0e1-4d83-979e-69538f035a43",
   "metadata": {
    "ExecuteTime": {
     "end_time": "2024-10-28T13:21:13.015268Z",
     "start_time": "2024-10-28T13:21:12.999650Z"
    }
   },
   "outputs": [],
   "source": [
    "def remove_top_right_frame(axes):\n",
    "    for ax in axes:\n",
    "        ax.spines['right'].set_visible(False)\n",
    "        ax.spines['top'].set_visible(False)\n",
    "\n",
    "def remove_axe_labels(ax):\n",
    "    ax.set_title('')\n",
    "    ax.set_xticks([])\n",
    "    ax.set_yticks([])\n",
    "    ax.set_xlabel('')\n",
    "    ax.set_ylabel('')\n",
    "        \n",
    "def to_dict(keys,values):\n",
    "    return dict(zip(keys,values))\n",
    "\n",
    "def get_test_dataframe(path,file):\n",
    "    tdf       = pd.read_csv(os.path.join(path, file))\n",
    "    tdf.index = np.array([np.array(s.replace('[','').replace(')','').split(',')).astype(int).mean() for s in tdf['week']])\n",
    "    tdf       = tdf.drop(columns=['week'])\n",
    "    tdf.rename(columns={\"age50\": \"age\"},inplace=True)\n",
    "    #tdf.rename(columns={\"age_50\": \"age\"},inplace=True)\n",
    "    if len(tdf)<140:\n",
    "        missing_index = np.sort(list(set(np.arange(-59.5,80.5,1)) - set(tdf.index)))\n",
    "        tdf = tdf.T\n",
    "        [tdf.insert(int(np.argwhere(np.arange(-59.5,80.5,1) == missing_index[i])[0][0]),missing_index[i],np.nan) for i in range(len(missing_index))]\n",
    "        tdf = tdf.T\n",
    "    return tdf"
   ]
  },
  {
   "cell_type": "markdown",
   "id": "ff674123-a244-4818-8da2-62a54e062231",
   "metadata": {},
   "source": [
    "# Loading the dataset"
   ]
  },
  {
   "cell_type": "code",
   "execution_count": null,
   "id": "8ec99651-7bad-482c-b1e4-4edcca9ec796",
   "metadata": {
    "ExecuteTime": {
     "end_time": "2024-10-28T13:24:51.968876Z",
     "start_time": "2024-10-28T13:24:51.132728Z"
    }
   },
   "outputs": [],
   "source": [
    "path     = os.path.join('..', 'Clalit Data', 'pregnancy.1w')\n",
    "files    = list(filter(lambda x: os.path.isfile(os.path.join(path, x)), [file for file in os.listdir(path)]))\n",
    "all_tests= [file.split('.')[0] for file in files]\n",
    "dfs      = dict(zip(all_tests,[get_test_dataframe(path,file) for file in files]))"
   ]
  },
  {
   "cell_type": "code",
   "execution_count": null,
   "id": "aacb763f-c8fd-440a-9eca-de68580563fb",
   "metadata": {
    "ExecuteTime": {
     "end_time": "2024-10-28T13:21:34.821347Z",
     "start_time": "2024-10-28T13:21:34.269495Z"
    }
   },
   "outputs": [],
   "source": [
    "# Loading metadata\n",
    "'''\n",
    "Code to create dataframe of tests values by percentile from LabNorm package in R (https://github.com/tanaylab/labNorm)\n",
    "\n",
    "library(labNorm)\n",
    "df1 = data.frame()\n",
    "df2 = data.frame()\n",
    "\n",
    "for (idx in 1:93) {\n",
    "  dat1<-ln_quantile_value(c(0,0.01,0.03,0.10,0.15,0.25,0.35,0.50,0.65,0.75,0.85,0.90,0.97,0.99,1), seq(20, 40, by = 1), \"female\", LAB_DETAILS$short_name[idx])\n",
    "  df1 <- rbind(df, dat1)}\n",
    "\n",
    "write.csv(df1,file='pregnancy/LabNorm.csv', row.names=FALSE)\n",
    "'''\n",
    "groups        = ['Liver','Renal','Musculoskeletal','Metabolism','RBCs','Coagulation','Immune','Endocrine']\n",
    "subgroups_main= ['Liver','Renal I','Renal II','Musculoskeletal','Metabolism','RBCs I','RBCs II','Coagulation','Immune I','Immune II','Endocrine']\n",
    "subgroups_si  = ['Liver','Renal I','Renal II','Musculoskeletal','Metabolism','RBCs I','RBCs II','RBCs III','Coagulation','Immune I','Immune II','Immune III','Endocrine I','Endocrine II','Endocrine III']\n",
    "metadata      = pd.read_excel(os.path.join('..', 'Clalit Data', 'Metadata.xlsx'),index_col=0)\n",
    "labnorm       = pd.read_csv(os.path.join('..', 'Clalit Data', 'LabNorm.csv'))\n",
    "labnorm_tests = list(metadata.loc[~metadata['LabNorm name'].isna()].index)"
   ]
  },
  {
   "cell_type": "markdown",
   "id": "072d191d-bb3e-4fc0-94f4-835bc3500c99",
   "metadata": {},
   "source": [
    "# Functions to process the data"
   ]
  },
  {
   "cell_type": "code",
   "execution_count": null,
   "id": "d9f22d6f-8c8a-4db1-a0d4-2c69efd005dc",
   "metadata": {
    "ExecuteTime": {
     "end_time": "2024-10-28T13:21:24.651662Z",
     "start_time": "2024-10-28T13:21:24.620416Z"
    }
   },
   "outputs": [],
   "source": [
    "def get_age_matched_reference(test):\n",
    "    age  = int(np.nanmedian(dfs[test]['age_mean']))\n",
    "    tdf  = labnorm.loc[(labnorm.age==age)&(labnorm.lab==metadata.loc[test]['LabNorm name'])].fillna(method='ffill').fillna(method='bfill').copy()\n",
    "    tdf['value'].loc[tdf.value<0] = np.min(tdf['value'].loc[tdf.value>0])\n",
    "    prob = np.diff(tdf['quantile'])/np.sum(np.diff(tdf['quantile']))\n",
    "    mu_  = (tdf.value.iloc[1:]*prob).sum()\n",
    "    sd_  = np.sqrt((prob*((tdf.value.iloc[1:] - mu_)**2)).sum())\n",
    "    q_to_val = interp1d(tdf['quantile'],tdf['value'],kind='linear')\n",
    "    return {'quantile':q_to_val,'mean':mu_,'sd':sd_}\n",
    "\n",
    "def get_mean_stats(test):\n",
    "    tdf = dfs[test]\n",
    "    #n   = tdf['n']\n",
    "    n   = tdf['val_n']\n",
    "    #v   = tdf['mean']\n",
    "    v   = tdf['val_mean']\n",
    "    e   = tdf['val_sd']/np.sqrt(tdf['val_n'])\n",
    "    # e = tdf[\"sd\"] /np.sqrt(tdf['n'])\n",
    "    return pd.DataFrame(np.array([n,v,e]).T,index=tdf.index,columns=['n','value','error'])\n",
    "\n",
    "def get_quantile_stats(test):\n",
    "    tdf = dfs[test]\n",
    "    # n   = tdf['n']\n",
    "    n   = tdf['val_n']\n",
    "    # v   = tdf['qmean']\n",
    "    v = tdf[\"qval_mean\"]\n",
    "    # e   = (tdf['qq75'] - tdf['qq25'])/(np.sqrt(tdf['n'])*0.675*2)\n",
    "    e = tdf[\"qval_sd\"] /np.sqrt(tdf['val_n'])\n",
    "    return pd.DataFrame(np.array([n,v,e]).T,index=tdf.index,columns=['n','value','error'])\n",
    "\n",
    "def get_value_at_quantile_stats(test):\n",
    "    tdf = get_quantile_stats(test)\n",
    "    if test in labnorm_tests:\n",
    "        ref = get_age_matched_reference(test)\n",
    "        v   = ref['quantile'](tdf['value'])\n",
    "        e_p = ref['quantile']((tdf['value']+tdf['error']).clip(upper=1))\n",
    "        e_m = ref['quantile']((tdf['value']-tdf['error']).clip(lower=0))\n",
    "        e   = (e_p - e_m)/2\n",
    "        return pd.DataFrame(np.array([tdf['n'],v,e]).T,index=tdf.index,columns=['n','value','error'])\n",
    "    else:\n",
    "        return pd.DataFrame(index=tdf.index,columns=['n','value','error'])\n",
    "\n",
    "def get_postpartum_SDS_stats(test):\n",
    "    df       = get_quantile_stats(test)\n",
    "    df['sd'] = df['error']*np.sqrt(df['n'])    \n",
    "    mu_end   = np.sum(df.loc[70:]['n']*df.loc[70:]['value'])/(np.sum(df.loc[70:]['n']))\n",
    "    sd_end   = np.sqrt(np.sum(df.loc[70:]['n']*df.loc[70:]['sd']**2)/(np.sum(df.loc[70:]['n'])))    \n",
    "    v        = (df['value'] - mu_end) / sd_end\n",
    "    e        = df['error'] / sd_end\n",
    "    return pd.DataFrame(np.array([df['n'],v,e]).T,index=df.index,columns=['n','value','error']).loc[0:]    \n",
    "     \n",
    "def get_test_data(test):\n",
    "    return {'mean'             :get_mean_stats(test),\n",
    "            'quantile'         :get_quantile_stats(test),\n",
    "            'value_at_quantile':get_value_at_quantile_stats(test),\n",
    "            'postpartum_SDS'   :get_postpartum_SDS_stats(test)}\n",
    "\n",
    "def get_stats_from_dataset(test,stat,period=[-60,80],merge_timepoints = True):\n",
    "    \n",
    "    df       = data[test][stat].copy()\n",
    "    df['sd'] = df['error']*np.sqrt(df['n'])\n",
    " \n",
    "    split_k = 1\n",
    "    if merge_timepoints:\n",
    "        split_k  = np.min([int(np.ceil(np.nanmean((df['error']/(df['value'].std() * 0.15))**2))),7])\n",
    "        \n",
    "        if split_k > 1:\n",
    "            print(f\"merge happened in test {test}: {int(split_k)}\")\n",
    "            df     = df.reset_index()\n",
    "            splits = np.array_split(df, int(len(df)/split_k))\n",
    "            x      = np.array([tdf['index'].mean()                                   for tdf in splits])\n",
    "            n      = np.array([tdf['n'].sum()                                        for tdf in splits])\n",
    "            v      = np.array([np.sum(tdf['value']*tdf['n'])/tdf['n'].sum()          for tdf in splits])\n",
    "            sd     = np.array([np.sqrt(np.sum(tdf['sd']**2*tdf['n'])/tdf['n'].sum()) for tdf in splits])\n",
    "            e      = sd/np.sqrt(n)\n",
    "            df     = pd.DataFrame(np.array([n,v,e]).T,columns=['n','value','error'],index=x)\n",
    "   \n",
    "    df = df.loc[period[0]:period[1]]\n",
    "    x  = df.index\n",
    "    n  = df.n\n",
    "    v  = df['value']\n",
    "    e  = df['error']\n",
    "    return x,v,e,n    "
   ]
  },
  {
   "cell_type": "code",
   "execution_count": null,
   "id": "c0da1c94-cd39-48ed-9b65-e98dae159ad9",
   "metadata": {
    "ExecuteTime": {
     "end_time": "2024-10-28T13:24:58.980240Z",
     "start_time": "2024-10-28T13:24:56.804782Z"
    }
   },
   "outputs": [],
   "source": [
    "data = {test:get_test_data(test) for test in tqdm(all_tests)}"
   ]
  },
  {
   "cell_type": "markdown",
   "id": "577cdcc3-efc4-44ab-bec8-d4d1417753e6",
   "metadata": {},
   "source": [
    "## Some general information about the dataset"
   ]
  },
  {
   "cell_type": "code",
   "execution_count": null,
   "id": "1e9c5eca-7330-4365-99f1-05777345980c",
   "metadata": {
    "ExecuteTime": {
     "end_time": "2024-01-24T08:37:55.815900400Z",
     "start_time": "2024-01-24T08:34:37.649802100Z"
    },
    "scrolled": true
   },
   "outputs": [],
   "source": [
    "for j in range((len(all_tests) -1)//7 + 1):\n",
    "    \n",
    "    tests = all_tests[j*7:j*7+7]\n",
    "    plt.figure(figsize=(8,1.3*len(tests)))\n",
    "    for i,test in enumerate(tests):\n",
    "        ax1,ax2,ax3,ax4   = plt.subplot(len(tests),4,1+4*i),plt.subplot(len(tests),4,2+4*i),plt.subplot(len(tests),4,3+4*i),plt.subplot(len(tests),4,4+4*i)\n",
    "        x,v,e,n           = get_stats_from_dataset(test,'quantile',merge_timepoints = False)\n",
    "        bmi25,bmi50,bmi75 = dfs[test]['bmi_25'],dfs[test]['bmi_mean'],dfs[test]['bmi_75']\n",
    "        #bmi25,bmi50,bmi75 = dfs[test]['bmi_25'],dfs[test]['bmi_50'],dfs[test]['bmi_75']\n",
    "        age25,age50,age75 = dfs[test]['age_25'],dfs[test]['age_mean'],dfs[test]['age_75']\n",
    "        #age25,age50,age75 = dfs[test]['age_25'],dfs[test]['age'],dfs[test]['age_75']\n",
    "\n",
    "\n",
    "        ax1.errorbar(x,v,e,fmt='o',markersize=1,c='k',elinewidth=1); ax1.set_title('Quantile'); ax1.set_xlabel('Weeks postpartum')\n",
    "        ax2.plot(x,n,marker='o',markersize=1,c='k',lw=0)           ; ax2.set_title('N')       ; ax2.set_xlabel('Weeks postpartum')\n",
    "        ax3.plot(x,bmi50,marker='o',markersize=1,c='k',lw=0)       ; ax3.set_title('BMI')     ; ax3.set_xlabel('Weeks postpartum')\n",
    "        ax4.plot(x,age50,marker='o',markersize=1,c='k',lw=0)       ; ax4.set_title('Age')     ; ax4.set_xlabel('Weeks postpartum')\n",
    "\n",
    "        #ax1.fill_between(x,dfs[test]['qq25'],dfs[test]['qq75'],alpha=0.25,color='k')\n",
    "        ax1.fill_between(x,dfs[test]['qval_25'],dfs[test]['qval_75'],alpha=0.25,color='k')\n",
    "        ax3.fill_between(x,bmi25,bmi75,alpha=0.25,color='k')\n",
    "        ax4.fill_between(x,age25,age75,alpha=0.25,color='k')\n",
    "\n",
    "        ax1.set_ylim([0,1])   ; ax1.set_xlim([-60,80])\n",
    "        ax2.set_ylim([10e-1,10e6])   ; ax2.set_xlim([-60,80]); ax2.set_yscale('log')\n",
    "        ax3.set_ylim([18,40]) ; ax3.set_xlim([-60,80])\n",
    "        ax4.set_ylim([25,35]) ; ax4.set_xlim([-60,80])\n",
    "\n",
    "        ax1.set_ylabel(metadata.loc[test]['Nice name'])\n",
    "        remove_top_right_frame([ax1,ax2,ax3,ax4])\n",
    "    plt.tight_layout();\n",
    "    plt.savefig('S_1_'+str(j)+'.svg',bbox_inches = 'tight',dpi=300);\n",
    "    plt.show() \n"
   ]
  },
  {
   "cell_type": "markdown",
   "id": "0877ca60-04b1-4a5e-9cf1-a823e3f21780",
   "metadata": {},
   "source": [
    "## We focus on 76 of the tests for our analysis"
   ]
  },
  {
   "cell_type": "code",
   "execution_count": null,
   "id": "27c95902-e7d6-44b4-a568-7750150f5700",
   "metadata": {
    "ExecuteTime": {
     "end_time": "2024-10-28T13:23:23.224365Z",
     "start_time": "2024-10-28T13:23:23.192899Z"
    }
   },
   "outputs": [],
   "source": [
    "def filter_tests_from_data(data, field=\"value_at_quantile\", min_n=50, min_avg_n=90, max_avg_noise=0.5, max_noise=0.7, min_weeks=-60, max_weeks=80, res=1):\n",
    "    tests = set()\n",
    "    num_points = (max_weeks - min_weeks) / res\n",
    "    for k in data:\n",
    "        df = data[k][field]\n",
    "        noise = (df['error'] / df['value'].var() ** 0.5)\n",
    "        is_noisy = (noise.mean() > max_avg_noise or noise.max() > max_noise) or noise.isna().any()\n",
    "        enough_n_vals = df[\"n\"].min() > min_n and df[\"n\"].mean() > min_avg_n\n",
    "        n_points = len(df.index)\n",
    "        if (n_points == num_points and enough_n_vals and not is_noisy):\n",
    "            tests.add(k)\n",
    "    return tests\n",
    "        \n",
    "        "
   ]
  },
  {
   "cell_type": "code",
   "execution_count": null,
   "id": "b8269221-f146-40db-88f7-ea8635d5571f",
   "metadata": {
    "ExecuteTime": {
     "end_time": "2024-10-28T13:25:07.559208Z",
     "start_time": "2024-10-28T13:25:07.399123Z"
    }
   },
   "outputs": [],
   "source": [
    "tests = np.array(sorted(filter_tests_from_data(data)))\n",
    "ages = [(dfs[k][\"val_n\"] * dfs[k][\"age_mean\"]).sum() / dfs[k][\"val_n\"].sum() for k in dfs ]\n",
    "print(f\"Average age: {sum(ages) / len(ages)}\")\n",
    "print(f\"Total number of included tests: {len(tests)}\")\n",
    "total_measurements = [int(dfs[k]['val_n'].sum()) for k in tests]\n",
    "print(f\"Total n in incldued tests: {int(sum(total_measurements)):,}\")\n",
    "print(f\"Total n in all tests: {int(sum([(dfs[k]['val_n']).sum() for k in dfs.keys() ])):,}\")\n",
    "\n",
    "def basic_age_demographics(at_index):\n",
    "    ages_25 = []\n",
    "    ages_mean = []\n",
    "    ages_75 = []\n",
    "    weights = []\n",
    "    cols = [\"age_25\", \"age_mean\", \"age_75\", \"val_n\"]\n",
    "    for test in tests:\n",
    "        age_25, age_mean, age_75, weight = dfs[test].loc[at_index, cols]\n",
    "        ages_25.append(age_25)\n",
    "        ages_mean.append(age_mean)\n",
    "        ages_75.append(age_75)\n",
    "        weights.append(weight)\n",
    "        mean_all_ages = np.average(ages_mean, weights=weights)\n",
    "        mean_age_25 = np.average(ages_25, weights=weights)\n",
    "        mean_age_75 = np.average(ages_75, weights=weights)\n",
    "    print(f\"Mean and (IQR) age for gestational week {at_index:.1f}: {mean_all_ages:.1f} ({mean_age_25:.1f}-{mean_age_75:.1f})\")\n",
    "\n",
    "basic_age_demographics(-59.5)\n",
    "basic_age_demographics(-0.5)\n",
    "basic_age_demographics(79.5)\n",
    "\n",
    "print(\"\")\n",
    "def basic_bmi_demographics(at_index):\n",
    "    cols = [\"val_25\", \"val_mean\", \"val_75\", \"val_n\"]\n",
    "    bmi_25, bmi_mean, bmi_75, weight = dfs[\"BMI\"].loc[at_index, cols]\n",
    "    print(f\"Mean and (IQR) BMI for gestational week {at_index:.1f}: {bmi_mean:.1f} ({bmi_25:.1f}-{bmi_75:.1f})\")\n",
    "\n",
    "basic_bmi_demographics(-59.5)\n",
    "basic_bmi_demographics(-1.5)\n",
    "basic_bmi_demographics(78.5)\n"
   ]
  },
  {
   "cell_type": "code",
   "execution_count": null,
   "id": "4744ea1f-0ebf-47fc-b78b-40fc2cbb7391",
   "metadata": {
    "ExecuteTime": {
     "end_time": "2024-01-24T08:37:56.738496Z",
     "start_time": "2024-01-24T08:37:55.847689900Z"
    }
   },
   "outputs": [],
   "source": [
    "#ndf          = pd.DataFrame([dfs[test]['n'] for test in tests],index=tests).fillna(0).astype(int)\n",
    "ndf          = pd.DataFrame([dfs[test]['val_n'] for test in tests],index=tests).fillna(0).astype(int)\n",
    "tdf          = pd.DataFrame(index=tests)\n",
    "tdf['n']     = ndf.sum(axis=1)\n",
    "tdf['group'] = metadata[\"Group\"][tdf.index]\n",
    "\n",
    "\n",
    "temp          = pd.DataFrame([tdf.loc[tdf['group'] == group]['n'].sum() for group in groups],index=groups,columns=['n'])\n",
    "temp['group'] = temp.index\n",
    "temp          = temp.sort_values(by=['n'],ascending=False)\n",
    "temp['group'].iloc[1] = 'RBC'\n",
    "temp['group'].iloc[-1] = 'Thyroid'\n",
    "\n",
    "plt.figure(figsize=(1.5,1.5))\n",
    "ax = plt.subplot(111)\n",
    "sns.barplot(data=temp,y='group',x='n',ax=ax,orient='h',color='dimgray')\n",
    "ax.set_ylabel('')\n",
    "ax.set_xscale('log')\n",
    "ax.set_xlim([10**5,10**7.5])\n",
    "ax.set_xticklabels(['','0.1','1','10'])\n",
    "ax.set_xlabel('Million tests')\n",
    "remove_top_right_frame([ax])\n",
    "plt.savefig('M_1A.svg',bbox_inches = 'tight',dpi=300)\n",
    "plt.show()"
   ]
  },
  {
   "cell_type": "code",
   "execution_count": null,
   "id": "18c3bd7a-1645-4c4a-a91a-0476217bc272",
   "metadata": {
    "ExecuteTime": {
     "end_time": "2024-01-24T08:37:57.302214100Z",
     "start_time": "2024-01-24T08:37:56.756724200Z"
    }
   },
   "outputs": [],
   "source": [
    "test      = 'PHOSPHATASE_ALKALINE'\n",
    "stat      = 'value_at_quantile'\n",
    "x,v,e,n   = get_stats_from_dataset(test,stat, merge_timepoints=False)\n",
    "ref       = get_age_matched_reference(test)\n",
    "ref_val   = ref['quantile'](0.5)\n",
    "ylabel    = 'Value at mean quantile'\n",
    "ref_label = \"Reference Population Median\"\n",
    "\n",
    "plt.figure(figsize=(4.5,3.5))    \n",
    "ax      = plt.subplot(111)\n",
    "ax.errorbar(x,v,e,c='k',lw=1,fmt='-o',markersize=1,zorder=-3)\n",
    "ax.set_xticks(np.arange(-60,100,20))\n",
    "ax.set_xlabel('Weeks postpartum')\n",
    "ax.set_ylabel(metadata.loc[test]['Nice name'],fontsize=10)# + ylabel)\n",
    "ax.set_xlim([-60,80])\n",
    "ax.set_ylim(ax.get_ylim()[0]*0.99,ax.get_ylim()[1])\n",
    "ax.axvspan(-60,-38,color='#C8E7FD',zorder=-5)\n",
    "ax.axvspan(-38,0,color='#43A9E2',zorder=-5)\n",
    "ax.axvspan(0,80,color='#95E08B',zorder=-5)\n",
    "ax.axvline(x=4,c='darkgreen',ls='-',zorder=-3,lw=1,alpha=0.25)\n",
    "ax.axvline(x=26,c='darkgreen',ls='-',zorder=-3,lw=1,alpha=0.25)\n",
    "ax.axvline(x=52,c='darkgreen',ls='-',zorder=-3,lw=1,alpha=0.25)\n",
    "ax.axvline(x=-27,c='white',ls='--',zorder=-4,lw=0.5)\n",
    "ax.axvline(x=-14,c='white',ls='--',zorder=-4,lw=0.5)\n",
    "ax.axvline(x=-38,c='white',ls='--',zorder=-4)\n",
    "ax.axvline(x=0,c='white',ls='--',zorder=-4)\n",
    "ax.annotate('1m postpartum',xy=(0.47,0.66),xycoords='axes fraction',rotation = 90,c='darkgreen',alpha=0.99)\n",
    "ax.annotate('6m postpartum',xy=(0.625,0.66),xycoords='axes fraction',rotation = 90,c='darkgreen',alpha=0.99)\n",
    "ax.annotate('1y postpartum',xy=(0.81,0.67),xycoords='axes fraction',rotation = 90,c='darkgreen',alpha=0.99)\n",
    "ax.annotate('Preconception',xy=(0.01,0.68),xycoords='axes fraction',rotation = 90,alpha=0.99)\n",
    "ax.annotate('$1_{st}$ Trimester',xy=(0.17,0.7),xycoords='axes fraction',rotation = 90,alpha=0.99)\n",
    "ax.annotate('$2_{nd}$ Trimester',xy=(0.25,0.7),xycoords='axes fraction',rotation = 90,alpha=0.99)\n",
    "ax.annotate('$3_{rd}$ Trimester',xy=(0.34,0.7),xycoords='axes fraction',rotation = 90,alpha=0.99)\n",
    "ax.annotate('Conception',xy=(0.17,0.02),xycoords='axes fraction',alpha=0.99)\n",
    "ax.annotate('Delivery',xy=(0.44,0.02),xycoords='axes fraction',alpha=0.99)\n",
    "remove_top_right_frame([ax])\n",
    "plt.savefig('M_1B.svg',bbox_inches = 'tight',dpi=300); plt.show()"
   ]
  },
  {
   "cell_type": "code",
   "execution_count": null,
   "id": "54aae73e-93a0-458e-8a2e-ecdddf8ddf57",
   "metadata": {
    "ExecuteTime": {
     "end_time": "2024-01-24T08:38:08.886586Z",
     "start_time": "2024-01-24T08:37:57.302214100Z"
    }
   },
   "outputs": [],
   "source": [
    "def plot_qunatile_change(ax,test, merge_timepoints=True):\n",
    "    qstd   = pd.DataFrame([data[test]['value_at_quantile']['value'].std() for test in tests],index = tests)\n",
    "\n",
    "\n",
    "    x,v,e,n = get_stats_from_dataset(test,'value_at_quantile', merge_timepoints=merge_timepoints)\n",
    "    \n",
    "    ylim_   = np.max(v) + (np.max(v)-np.min(v))*0.2\n",
    "    ylim_1  = np.min(v) - (np.max(v)-np.min(v))*0.2\n",
    "    \n",
    "    ax.errorbar(x,v,e,c='k',lw=1)\n",
    "    # ax.set_ylabel('Percentile\\nChange',fontsize=6); \n",
    "\n",
    "    ax.set_ylim([ylim_1,ylim_])\n",
    "    ax.set_xticks(np.arange(-50,100,50)) ; ax.set_xlabel('Weeks\\npostpartum',fontsize=6); ax.set_xlim([-60,80])\n",
    "    ax.axvspan(-38,0,color='dimgray',alpha=0.1,zorder=-20)\n",
    "\n",
    "    ax.set_facecolor('w')\n",
    "    remove_top_right_frame([ax])\n",
    "    test_name = metadata.loc[test]['Nice name'] if len(metadata.loc[test]['Nice name']) <= 16 else metadata.loc[test]['Short name']\n",
    "    ax.annotate(test_name, (0.01,1.05),xycoords='axes fraction',fontsize=8,color='k')\n",
    "    ax.tick_params(axis='both', which='major', labelsize=6)\n",
    "\n",
    "plt.figure(figsize=(10,np.ceil(len(tests))/9))\n",
    "for i,test in enumerate(tests):\n",
    "    ax    = plt.subplot(int(np.ceil(len(tests)/8)),8,i+1)\n",
    "    plot_qunatile_change(ax,test)\n",
    "    \n",
    "    if i<len(tests)-8:\n",
    "        ax.set_xticks([])\n",
    "        ax.set_xlabel('')\n",
    "    if np.mod(i,8) != 0:\n",
    "        ax.set_ylabel('')\n",
    "    \n",
    "plt.subplots_adjust(hspace=0.5,wspace=0.6);\n",
    "plt.savefig('M_1C.svg',bbox_inches = 'tight',pad_inches=0.1,dpi=300)   \n",
    "\n",
    "plt.figure(figsize=(10,np.ceil(len(tests))/9))\n",
    "for i,test in enumerate(tests):\n",
    "    ax    = plt.subplot(int(np.ceil(len(tests)/8)),8,i+1)\n",
    "    plot_qunatile_change(ax,test, False)\n",
    "    \n",
    "    if i<len(tests)-8:\n",
    "        ax.set_xticks([])\n",
    "        ax.set_xlabel('')\n",
    "    if np.mod(i,8) != 0:\n",
    "        ax.set_ylabel('')\n",
    "    \n",
    "plt.subplots_adjust(hspace=0.5,wspace=0.6)\n",
    "plt.savefig('S_3.svg',bbox_inches = 'tight',pad_inches=0.1,dpi=300);\n",
    "plt.show()"
   ]
  },
  {
   "cell_type": "code",
   "execution_count": null,
   "id": "61f42dfa-4e0a-46bb-86b6-ebde1c2935bf",
   "metadata": {
    "ExecuteTime": {
     "end_time": "2024-01-24T08:38:41.444305Z",
     "start_time": "2024-01-24T08:38:08.886586Z"
    }
   },
   "outputs": [],
   "source": [
    "def plot_normlab(tests,age=30):\n",
    "    nrow = 5\n",
    "    plt.figure(figsize=(8,30))\n",
    "    for i,test in enumerate(tqdm(tests)):\n",
    "        ax  = plt.subplot(int(np.ceil(len(tests)/nrow)),nrow,i+1)\n",
    "        tdf = labnorm.loc[(labnorm.age==30)&(labnorm.lab==metadata.loc[test]['LabNorm name'])].copy()\n",
    "        tdf['value'].loc[tdf.value<0] = np.min(tdf['value'].loc[tdf.value>0])\n",
    "        ax.plot(tdf['quantile'],tdf['value'],c='k')\n",
    "        ax.set_xlabel('Quantile')\n",
    "        ax.set_ylabel('Test value')\n",
    "        ax.set_title(metadata.loc[test]['Nice name'])\n",
    "        remove_top_right_frame([ax])\n",
    "        if i<len(tests)-nrow:\n",
    "            ax.set_xlabel('')\n",
    "        if np.mod(i,nrow) != 0:\n",
    "            ax.set_ylabel('')\n",
    "    plt.tight_layout(); \n",
    "    \n",
    "plot_normlab(all_tests) \n",
    "plt.savefig('S_2.pdf',bbox_inches = 'tight',dpi=300)\n",
    "plt.show()"
   ]
  },
  {
   "cell_type": "markdown",
   "id": "c16bc2fc",
   "metadata": {},
   "source": [
    "# We analyze the main trends in the dataset"
   ]
  },
  {
   "cell_type": "code",
   "execution_count": null,
   "id": "386effd1-2023-4c39-b8ef-4a0a645f7a15",
   "metadata": {
    "ExecuteTime": {
     "end_time": "2024-01-24T08:38:45.374579800Z",
     "start_time": "2024-01-24T08:38:41.432196800Z"
    }
   },
   "outputs": [],
   "source": [
    "summary = []\n",
    "for test in tqdm(tests):\n",
    "    temp           = get_test_data(test)\n",
    "    ref            = get_age_matched_reference(test)\n",
    "        \n",
    "    x,v,e,n        = get_stats_from_dataset(test,'quantile',merge_timepoints=False)    \n",
    "    var_q          = v.max() - v.min()\n",
    "    \n",
    "    x,v,e,n        = get_stats_from_dataset(test,'value_at_quantile',merge_timepoints=False)\n",
    "    relative_range = (v.max() - v.min())/ np.mean(v.iloc[:20])\n",
    "    \n",
    "    ref_cv         = ref['sd']/ref['mean']\n",
    "    summary.append([var_q,relative_range,ref_cv])\n",
    "summary = pd.DataFrame(summary,columns=['quantile variation','percent change','reference CV'],index=tests)"
   ]
  },
  {
   "cell_type": "code",
   "execution_count": null,
   "id": "dac9309c-7278-4abf-ab75-5a1810cba444",
   "metadata": {
    "ExecuteTime": {
     "end_time": "2024-01-24T08:38:45.858172600Z",
     "start_time": "2024-01-24T08:38:45.374579800Z"
    }
   },
   "outputs": [],
   "source": [
    "plt.figure(figsize=(4.5,3.75))\n",
    "ax = plt.subplot(111)\n",
    "summary['quantile variation'].hist(ax = ax,color='dimgray', zorder=2, rwidth=0.9)\n",
    "ax.set_xlabel('Dynamic range (Quantiles)', fontsize=11)\n",
    "ax.set_ylabel('Number of lab tests', fontsize=11)\n",
    "ax.set_xticks([0,0.2,0.4,0.6])\n",
    "for t in (ax.get_xticklabels() + ax.get_yticklabels()):\n",
    "    t.set_fontsize(10)\n",
    "\n",
    "ax.grid(False)\n",
    "remove_top_right_frame([ax])\n",
    "ax.annotate(\"B\", xy=(-0.3,1.01), xycoords='axes fraction', horizontalalignment=\"left\", fontweight=\"bold\", fontsize=16)\n",
    "plt.savefig('M_2B.pdf',dpi=300,bbox_inches = 'tight',pad_inches=0.1)\n",
    "plt.savefig('M_2B.svg',dpi=300,bbox_inches = 'tight',pad_inches=0.1)\n",
    "plt.show()\n",
    "\n",
    "plt.figure(figsize=(3,2.5))\n",
    "ax = plt.subplot(111)\n",
    "np.log10(summary['percent change']).hist(ax = ax,color='dimgray', zorder=2, rwidth=0.9)\n",
    "ax.set_xlabel('Dynamic range (Relative change)')\n",
    "ax.set_ylabel('Number of lab tests')\n",
    "ax.grid(False)\n",
    "ax.set_xticks(np.arange(-1,4,1))\n",
    "ax.set_xticklabels([str(float(10)**tick) for tick in ax.get_xticks()])\n",
    "ax.set_xlim([-3,0.75])\n",
    "\n",
    "remove_top_right_frame([ax])\n",
    "# plt.savefig('percent_variation_hist.pdf',bbox_inches = 'tight',pad_inches=0.1,dpi=300); plt.show()\n",
    "plt.show()\n",
    "\n",
    "plt.figure(figsize=(3,2.5))\n",
    "ax = plt.subplot(111)\n",
    "np.log10(summary['reference CV']).hist(ax = ax,color='dimgray', zorder=2, rwidth=0.9)\n",
    "ax.set_xlabel('Variation between people (CV)')\n",
    "ax.set_ylabel('Number of lab tests')\n",
    "ax.grid(False)\n",
    "ax.set_xticks(np.arange(-1,4,1))\n",
    "ax.set_xticklabels([str(float(10)**tick) for tick in ax.get_xticks()])\n",
    "ax.set_xlim([-2.5,0.75])\n",
    "\n",
    "remove_top_right_frame([ax])\n",
    "# plt.savefig('reference_variation_hist.pdf',bbox_inches = 'tight',pad_inches=0.1,dpi=300); plt.show()\n",
    "plt.show()"
   ]
  },
  {
   "cell_type": "code",
   "execution_count": null,
   "id": "150b92ca-13d3-4abd-90ff-aa6c86846ae6",
   "metadata": {
    "ExecuteTime": {
     "end_time": "2024-01-24T08:38:46.487378700Z",
     "start_time": "2024-01-24T08:38:45.883354200Z"
    }
   },
   "outputs": [],
   "source": [
    "plt.figure(figsize=(9,7.5))\n",
    "ax       = plt.subplot(121)\n",
    "X,Y      = (summary.dropna()['reference CV']).values.reshape(-1, 1),(summary.dropna()['percent change']).values.reshape(-1, 1)\n",
    "X, Y = np.log10(X), np.log10(Y)\n",
    "\n",
    "reg      = LinearRegression().fit(X,Y)\n",
    "text     = rf'$log(y) = {reg.coef_[0, 0]:.1f}\\cdot log(x) + {str(np.round(reg.intercept_.flat[:][0],decimals=2))}$'\n",
    "\n",
    "\n",
    "\n",
    "tdf = summary.dropna()[['reference CV', 'percent change']]\n",
    "sns.regplot(ax=ax,x=\"reference CV\", y=\"percent change\", data=np.log10(tdf),\n",
    "            scatter_kws={\"s\": 15,\"edgecolor\":'k',\"linewidths\":0.5,\"color\":'silver'},\n",
    "           line_kws={\"color\": \"k\",\"linewidth\":2,\"zorder\":-5})\n",
    "spearman_corr, spearman_corr_p = spearmanr(tdf.to_numpy())\n",
    "pearson_corr, pearsonn_corr_p = pearsonr(tdf['reference CV'], tdf['percent change'])\n",
    "x = np.log10(tdf['reference CV'].to_numpy()[:, None])\n",
    "y =  np.log10(tdf['percent change'].to_numpy()[:, None])\n",
    "lr = LinearRegression(fit_intercept=True).fit(x,y)\n",
    "r_score = lr.score(x,y)\n",
    "\n",
    "text     = f'$r_{{p}}= {pearson_corr:.2f}$'#\\n$p-value: {spearman_corr_p:.2f}$'\n",
    "text_lr  = rf'$log(y) = {lr.coef_[0, 0]:.3f}\\cdot log(x) {lr.intercept_[0]:+.3f}$'\n",
    "ax.get_children()[1].set_label(text_lr)\n",
    "\n",
    "\n",
    "ax.annotate(text,(-2.1, 0.1), fontsize=10)\n",
    "ax.annotate(\"A\", xy=(-0.3,1.01), xycoords='axes fraction', horizontalalignment=\"left\", fontweight=\"bold\", fontsize=16)\n",
    "#ax.annotate('$r_{fit} = ' +str(pearson_r)+'$', (-2.1,-0.1), fontsize=9)#\\n$p-value<10^{-19}$',(-2.1,-0.1), fontsize=9)\n",
    "remove_top_right_frame([ax])\n",
    "ax.set_xlabel('Variation between people (CV)', fontsize=11)\n",
    "ax.set_ylabel('Dynamic range\\n(Relative change)', fontsize=11)\n",
    "ax.set_aspect(1)\n",
    "# Points extracted with PlotDigitizer version 3.1.5\n",
    "slope = (-2.1283333333333333 - 0.2558019028815669) / (-2.1283333333333333 - 0.25580190288157)\n",
    "intercept = (-2.0823709959245993) - slope * (-2.1283333333333333)\n",
    "ax.plot((-2.0823709959245993 ,0.30100086379546775), (-2.1283333333333333, 0.25580190288157), color=\"k\", linestyle=\"--\", label=rf'$log(y) = {slope:.3f}\\cdot log(x) {intercept:+.3f}$')\n",
    "\n",
    "r_score_dashed = r2_score(y, slope * x + intercept)\n",
    "ax.annotate(f\"$R^2={r_score:.2f}$\\n$R^{{2}}={r_score_dashed:.2f}$\", (-2.1, -0.25), fontsize=10)\n",
    "ax.legend(loc=\"lower right\", fontsize=9)\n",
    "ax = plt.subplot(122)\n",
    "ax.scatter(10 ** x, 10 ** y, color=\"w\", edgecolor=\"w\")\n",
    "ax.set_yscale(\"log\")\n",
    "ax.set_xscale(\"log\")\n",
    "\n",
    "remove_top_right_frame([ax])\n",
    "ax.set_xlabel('Variation between people (CV)', fontsize=11)\n",
    "ax.set_ylabel('Dynamic range\\n(Relative change)', fontsize=11)\n",
    "ax.set_aspect(1)\n",
    "plt.savefig('M_2A_log.svg',dpi=300,bbox_inches = 'tight',pad_inches=0.1)\n",
    "plt.show()"
   ]
  },
  {
   "cell_type": "markdown",
   "id": "3974ef64",
   "metadata": {},
   "source": [
    "## IFFL model for the clusters:"
   ]
  },
  {
   "cell_type": "code",
   "execution_count": null,
   "id": "46d80768-6a61-445a-ae9c-1732215eb54a",
   "metadata": {
    "ExecuteTime": {
     "end_time": "2024-01-24T08:38:57.938562Z",
     "start_time": "2024-01-24T08:38:57.215074800Z"
    }
   },
   "outputs": [],
   "source": [
    "ax,bx,ay,by,t = symbols('b,a,d,c,t',positive=True)\n",
    "\n",
    "x       = Function('x')(t)\n",
    "y       = Function('y')(t)\n",
    "u       = Function('u')(t)\n",
    "dx      = u*bx   - ax*x\n",
    "dy      = u*by/x - ay*y\n",
    "deqx    = Eq(Derivative(x),dx)\n",
    "deqy    = Eq(Derivative(y),dy)\n",
    "Matrix([deqx,deqy])"
   ]
  },
  {
   "cell_type": "markdown",
   "id": "ea9a9ec7-b67d-4752-bd04-640008909cad",
   "metadata": {},
   "source": [
    "We solve the model assuming $y$ dynamics are much faster than $x$. \n",
    "\n",
    "We solve the quasi steady state of $y$"
   ]
  },
  {
   "cell_type": "code",
   "execution_count": null,
   "id": "2e98535c-1b85-410b-8bfa-f0097fd9cb65",
   "metadata": {
    "ExecuteTime": {
     "end_time": "2024-01-24T08:38:58.329428100Z",
     "start_time": "2024-01-24T08:38:57.985437500Z"
    }
   },
   "outputs": [],
   "source": [
    "yqst = solve(dy,y)[0]\n",
    "Eq(y,yqst)"
   ]
  },
  {
   "cell_type": "markdown",
   "id": "c670cf67",
   "metadata": {},
   "source": [
    "The steady state of the model (when $u(t)$ is constant) is:"
   ]
  },
  {
   "cell_type": "code",
   "execution_count": null,
   "id": "903411b2-7de4-4872-8b4a-261a16921adc",
   "metadata": {
    "ExecuteTime": {
     "end_time": "2024-01-24T08:38:58.664454200Z",
     "start_time": "2024-01-24T08:38:58.338086600Z"
    }
   },
   "outputs": [],
   "source": [
    "xst = solve(dx,x)[0]\n",
    "Eq(x,xst),Eq(y,yqst.subs(x,xst))"
   ]
  },
  {
   "cell_type": "markdown",
   "id": "5e55b4e3",
   "metadata": {},
   "source": [
    "During pregnancy, there is a load on $x$ and $y$, modeled by increasing production rate"
   ]
  },
  {
   "cell_type": "code",
   "execution_count": null,
   "id": "c5d0e0db-53a4-46fd-a5a0-3640ebaae9ee",
   "metadata": {
    "ExecuteTime": {
     "end_time": "2024-01-24T08:38:58.998973200Z",
     "start_time": "2024-01-24T08:38:58.664454200Z"
    }
   },
   "outputs": [],
   "source": [
    "m = symbols('m',positive=True)\n",
    "load = (1+m*t)\n",
    "deqx.subs(u,load)"
   ]
  },
  {
   "cell_type": "markdown",
   "id": "f8f1bff1",
   "metadata": {},
   "source": [
    "The time-dependend solution for $x(t)$ is:"
   ]
  },
  {
   "cell_type": "code",
   "execution_count": null,
   "id": "99b0dccf-fc96-4728-8597-df46314b4d96",
   "metadata": {
    "ExecuteTime": {
     "end_time": "2024-01-24T08:38:59.586142800Z",
     "start_time": "2024-01-24T08:38:58.998973200Z"
    }
   },
   "outputs": [],
   "source": [
    "x_pregnancy = dsolve(deqx.subs(u,load),ics={x.subs(t,0):xst.subs(u,1)}).args[1]\n",
    "Eq(x,x_pregnancy)"
   ]
  },
  {
   "cell_type": "markdown",
   "id": "ea243755",
   "metadata": {},
   "source": [
    "And thus for $y$ (assuming quasi steady state)"
   ]
  },
  {
   "cell_type": "code",
   "execution_count": null,
   "id": "7084b547-2fcd-4b35-a3ab-444098c01c1d",
   "metadata": {
    "ExecuteTime": {
     "end_time": "2024-01-24T08:38:59.968450700Z",
     "start_time": "2024-01-24T08:38:59.586142800Z"
    }
   },
   "outputs": [],
   "source": [
    "y_pregnancy = yqst.subs(u,load).subs(x,x_pregnancy)\n",
    "Eq(y,y_pregnancy)"
   ]
  },
  {
   "cell_type": "markdown",
   "id": "14dd663b",
   "metadata": {},
   "source": [
    "Note that for large $t$, $x$ grows in proportion to the load:"
   ]
  },
  {
   "cell_type": "code",
   "execution_count": null,
   "id": "daeaa645-bfee-43cf-b3ec-45f7c2fdb27e",
   "metadata": {
    "ExecuteTime": {
     "end_time": "2024-01-24T08:39:00.382776600Z",
     "start_time": "2024-01-24T08:38:59.968450700Z"
    }
   },
   "outputs": [],
   "source": [
    "Eq(x,x_pregnancy.series(x=t,x0=oo,n=0))"
   ]
  },
  {
   "cell_type": "markdown",
   "id": "164ecacb",
   "metadata": {},
   "source": [
    "And $y$ is compenstated - it doesn't grow indefintly, but rather reaches a steady state"
   ]
  },
  {
   "cell_type": "code",
   "execution_count": null,
   "id": "1f07a90c-2448-4c11-8c0b-7203817c965c",
   "metadata": {
    "ExecuteTime": {
     "end_time": "2024-01-24T08:39:00.701880800Z",
     "start_time": "2024-01-24T08:39:00.399427100Z"
    }
   },
   "outputs": [],
   "source": [
    "Eq(y,yqst.subs(u,load).subs(x,x_pregnancy.series(x=t,x0=oo,n=0).removeO()).limit(t,oo))"
   ]
  },
  {
   "cell_type": "markdown",
   "id": "7a26aa6a",
   "metadata": {},
   "source": [
    "Following 38 weeks of gestation: the values of $x$ and $y$ at delivery ($x_d, y_d$)"
   ]
  },
  {
   "cell_type": "code",
   "execution_count": null,
   "id": "b227bf3e-db60-48ff-b54c-4d858b3d98ac",
   "metadata": {
    "ExecuteTime": {
     "end_time": "2024-01-24T08:39:01.156192600Z",
     "start_time": "2024-01-24T08:39:00.725324900Z"
    }
   },
   "outputs": [],
   "source": [
    "x_d = symbols('x_d')\n",
    "y_d = symbols('y_d')\n",
    "Eq(x_d,x_pregnancy.subs(t,38)),Eq(y_d,y_pregnancy.subs(t,38))"
   ]
  },
  {
   "cell_type": "markdown",
   "id": "7134a82f",
   "metadata": {},
   "source": [
    "Postpartum, $x$ decay to its original steady state:"
   ]
  },
  {
   "cell_type": "code",
   "execution_count": null,
   "id": "df4d23a9-fe72-45ae-8928-b4c1ca890439",
   "metadata": {
    "ExecuteTime": {
     "end_time": "2024-01-24T08:39:01.552507900Z",
     "start_time": "2024-01-24T08:39:01.154013900Z"
    }
   },
   "outputs": [],
   "source": [
    "x_postpartum = dsolve(deqx.subs(u,1),ics={x.subs(t,0):x_d}).args[1]\n",
    "x_postpartum_full = x_postpartum.subs(x_d,x_pregnancy.subs(t,38))\n",
    "\n",
    "Eq(x,x_postpartum)"
   ]
  },
  {
   "cell_type": "code",
   "execution_count": null,
   "id": "da2a1dfe-c416-410e-863d-01e42b515d55",
   "metadata": {
    "ExecuteTime": {
     "end_time": "2024-01-24T08:39:01.860082200Z",
     "start_time": "2024-01-24T08:39:01.540587Z"
    }
   },
   "outputs": [],
   "source": [
    "y_postpartum =yqst.subs(u,1).subs(x,x_postpartum)\n",
    "y_postpartum_full = y_postpartum.subs(x_d,y_pregnancy.subs(t,38))\n",
    "Eq(y,y_postpartum)"
   ]
  },
  {
   "cell_type": "code",
   "execution_count": null,
   "id": "6366987a-a2d9-4dc4-8e50-8cea89729b83",
   "metadata": {
    "ExecuteTime": {
     "end_time": "2024-01-24T08:39:01.936646800Z",
     "start_time": "2024-01-24T08:39:01.860082200Z"
    }
   },
   "outputs": [],
   "source": [
    "pregnancy_func    = lambdify([t,ax,bx,ay,by,m],[x_pregnancy,y_pregnancy,load])\n",
    "postpartum_func   = lambdify([t,ax,bx,ay,by,m],[x_postpartum_full,y_postpartum_full,1])\n",
    "pregnancy_period  = np.arange(-22,38,1); pregnancy_period[pregnancy_period<0] = 0\n",
    "postpartum_period = np.arange(0,80,1)\n",
    "\n",
    "def IFFL_analytic_sol(pars):\n",
    "    nx_preg,ny_preg,nload_preg = pregnancy_func(pregnancy_period,*pars)\n",
    "    nx_pp,ny_pp,nload_pp       = postpartum_func(postpartum_period,*pars)\n",
    "    numeric_x                  = np.append(nx_preg,nx_pp)\n",
    "    numeric_y                  = np.append(ny_preg,ny_pp)\n",
    "    numeric_load               = np.append(nload_preg,nload_pp)\n",
    "    return numeric_x, numeric_y,numeric_load\n",
    "\n",
    "pars  = [0.05,0.05,1,1,0.01]\n",
    "res   = pd.DataFrame(IFFL_analytic_sol(pars),columns=np.arange(-60,80),index=['x','y','load']).T.fillna(1)"
   ]
  },
  {
   "cell_type": "markdown",
   "id": "7b1ef196",
   "metadata": {},
   "source": [
    "## Data normalziation and clustering using kmeans and spearman correlation - custom z-score (not included in the paper)"
   ]
  },
  {
   "cell_type": "code",
   "execution_count": null,
   "id": "523546b1-f54e-42e7-9f74-c5e0ebc4766b",
   "metadata": {
    "ExecuteTime": {
     "end_time": "2024-01-24T08:38:54.360585100Z",
     "start_time": "2024-01-24T08:38:46.502918600Z"
    }
   },
   "outputs": [],
   "source": [
    "def get_pca_curve(test,preg_period,norm_baselines=True):\n",
    "    # remove timepoints around delivery\n",
    "    df       = get_test_data(test)['quantile'].drop(index=[-1.5,-0.5,0.5,1.5,2.5])\n",
    "    df['sd'] = df['error']*np.sqrt(df['n'])\n",
    "\n",
    "    ## norm end to start\n",
    "    mu_end   = np.sum(df.loc[70:]['n']*df.loc[70:]['value'])/(np.sum(df.loc[70:]['n']))\n",
    "    sd_end   = np.sqrt(np.sum(df.loc[70:]['n']*df.loc[70:]['sd']**2)/(np.sum(df.loc[70:]['n'])))\n",
    "    mu_start = np.sum(df.loc[:-50]['n']*df.loc[:-50]['value'])/(np.sum(df.loc[:-50]['n']))\n",
    "    sd_start = np.sqrt(np.sum(df.loc[:-50]['n']*df.loc[:-50]['sd']**2)/(np.sum(df.loc[:-50]['n'])))  \n",
    "\n",
    "    mu          = pd.concat([(df['value'].loc[:0] - mu_start),(df['value'].loc[0:] - mu_end)])\n",
    "    err         = pd.concat([df['error'].loc[:0]             ,df['error'].loc[0:]])\n",
    "\n",
    "    if norm_baselines:\n",
    "        err.loc[0:] = err.loc[0:]/mu.loc[0:].std()\n",
    "        err.loc[:0] = err.loc[:0]/mu.loc[:0].std()\n",
    "        mu.loc[0:]  = mu.loc[0:]/mu.loc[0:].std()\n",
    "        mu.loc[:0]  = mu.loc[:0]/mu.loc[:0].std()\n",
    "\n",
    "    w_start, w_end = preg_period\n",
    "    x   =  df.loc[w_start:w_end].index.values\n",
    "    mu  =  mu.loc[w_start:w_end]\n",
    "    err =  err.loc[w_start:w_end]\n",
    "    return x,mu,err\n",
    "\n",
    "zdf = pd.DataFrame([get_pca_curve(test,[-60,80])[1] for test in tests],index=tests).T.fillna(method ='backfill')\n",
    "plt.figure(figsize=(9,2.5))\n",
    "ax  = plt.subplot(131)\n",
    "zdf.loc[:0].plot(legend=False,c='k',alpha=0.15,ax=ax)\n",
    "zdf.loc[0:].plot(legend=False,c='k',alpha=0.15,ax=ax)\n",
    "ax.set_xlabel('Weeks Postpartum',fontsize=8)\n",
    "ax.set_ylabel('Pseudo Z-Score',fontsize=8)\n",
    "ax.set_ylim([-5,5])\n",
    "remove_top_right_frame([ax])\n",
    "\n",
    "ax   = plt.subplot(132)\n",
    "K    = range(1,11)\n",
    "temp = np.array([KMeans(n_clusters=k).fit(zdf.to_numpy().T).inertia_ for k in K])\n",
    "ax.plot(K, temp,c='k',marker='o',markersize=3)\n",
    "ax.set_xlabel('number of clusters (K)',fontsize=7)\n",
    "ax.set_ylabel('SSE',fontsize=7)\n",
    "ax.set_title('Elbow Method For Optimal K',fontsize=7)\n",
    "ax.axvline(x=4,c='gray',ls='--',zorder=-4)\n",
    "ax.set_xlim([0.5,10.5])\n",
    "remove_top_right_frame([ax])\n",
    "\n",
    "n_clusters= 4\n",
    "kmeans    = KMeans(n_clusters,n_init =1000).fit(zdf.to_numpy().T)\n",
    "clusters  = kmeans.fit_predict(zdf.to_numpy().T)\n",
    "centroids = pd.DataFrame(np.squeeze(kmeans.cluster_centers_),columns=zdf.index).T\n",
    "\n",
    "#order clusters\n",
    "clust_dict        = to_dict(np.argsort(centroids.iloc[0]),centroids.columns.values)\n",
    "centroids.columns = [clust_dict[k] for k in centroids.columns]\n",
    "clusters          = np.array([clust_dict[k] for k in clusters])\n",
    "clust_dict        = {0: 2, 1: 0, 2: 3, 3: 1}\n",
    "centroids.columns = [clust_dict[k] for k in centroids.columns]\n",
    "clusters          = np.array([clust_dict[k] for k in clusters])\n",
    "\n",
    "ax        = plt.subplot(133)\n",
    "pca       = PCA(n_components=2).fit(zdf.to_numpy())\n",
    "pc_scores = pd.DataFrame(pca.components_,columns=zdf.columns).T\n",
    "[pc_scores.loc[np.array(tests)[clusters == i]].plot.scatter(x=0,y=1,c=def_color[i],ax=ax,s=10,edgecolor='k',linewidth=0.4) for i in range(4)]\n",
    "ax.set_xticks([]); ax.set_xlabel('PC 1')\n",
    "ax.set_yticks([]); ax.set_ylabel('PC 2')   \n",
    "remove_top_right_frame([ax])  \n",
    "\n",
    "plt.subplots_adjust(wspace=0.2)\n",
    "plt.show()\n",
    "\n",
    "cluster_colors = [def_color[3],def_color[3],def_color[0],def_color[0]]\n",
    "plt.figure(figsize=(7.5,1.5))\n",
    "for i in range(n_clusters):\n",
    "    ax = plt.subplot(1,4,i+1)\n",
    "\n",
    "    zdf.T.loc[clusters==i].T.loc[:0].plot(legend=False,ax=ax,c='k',alpha=0.25)\n",
    "    zdf.T.loc[clusters==i].T.loc[0:].plot(legend=False,ax=ax,c='k',alpha=0.25)\n",
    "\n",
    "    centroids[i].loc[:0].plot(c=def_color[i],ax=ax,title = 'Profile ' + str(i+1),marker='o',markersize=0.5,lw=1)\n",
    "    centroids[i].loc[0:].plot(c=def_color[i],ax=ax,title = 'Profile ' + str(i+1),marker='o',markersize=0.5,lw=1)\n",
    "\n",
    "    ax.set_xlabel('Weeks postpartum',fontsize=7)\n",
    "    ax.set_xlim([-60,80])\n",
    "    ax.set_yticks([])\n",
    "    ax.set_ylim([-6,6])\n",
    "    ax.set_xticks(np.arange(-40,80,40),np.arange(-40,80,40),fontsize=7)\n",
    "    ax.yaxis.set_tick_params(which='minor', bottom=False)\n",
    "    remove_top_right_frame([ax])\n",
    "            \n",
    "plt.subplots_adjust(wspace=0.2)\n",
    "plt.show()"
   ]
  },
  {
   "cell_type": "code",
   "execution_count": null,
   "id": "a6e5132d-6d4a-4146-9e51-6f1a993f238e",
   "metadata": {},
   "outputs": [],
   "source": [
    "### A 5th 'Outliers' cluster"
   ]
  },
  {
   "cell_type": "raw",
   "id": "aafec800-d2f5-44e9-bf36-02d4fc69bfd7",
   "metadata": {
    "ExecuteTime": {
     "end_time": "2024-01-24T08:38:54.949528400Z",
     "start_time": "2024-01-24T08:38:54.360585100Z"
    }
   },
   "source": [
    "cluster_centers = kmeans.cluster_centers_\n",
    "X               = zdf.to_numpy().T\n",
    "distances       = np.linalg.norm(X[:, np.newaxis] - cluster_centers, axis=2)\n",
    "outliers        = np.where(np.all(distances > np.percentile(distances.min(axis=1),90), axis=1))\n",
    "clusters[outliers] = 4\n",
    "\n",
    "plt.figure(figsize=(10,1.5))\n",
    "for i in range(n_clusters+1):\n",
    "    ax = plt.subplot(1,5,i+1)\n",
    "\n",
    "    zdf.T.loc[clusters==i].T.loc[:0].plot(legend=False,ax=ax,c='k',alpha=0.25)\n",
    "    zdf.T.loc[clusters==i].T.loc[0:].plot(legend=False,ax=ax,c='k',alpha=0.25)\n",
    "\n",
    "    if i < 4:\n",
    "        centroids[i].loc[:0].plot(c=def_color[i],ax=ax,title = 'Profile ' + str(i+1),marker='o',markersize=0.5,lw=1)\n",
    "        centroids[i].loc[0:].plot(c=def_color[i],ax=ax,title = 'Profile ' + str(i+1),marker='o',markersize=0.5,lw=1)\n",
    "\n",
    "    ax.set_xlabel('Weeks postpartum',fontsize=7)\n",
    "    ax.set_xlim([-60,80])\n",
    "    ax.set_yticks([])\n",
    "    ax.set_ylim([-6,6])\n",
    "    ax.set_xticks(np.arange(-40,80,40))\n",
    "    ax.yaxis.set_tick_params(which='minor', bottom=False)\n",
    "    remove_top_right_frame([ax])\n",
    "\n",
    "ax.set_title('Outliers')    \n",
    "plt.subplots_adjust(wspace=0.2)\n",
    "plt.show()"
   ]
  },
  {
   "cell_type": "code",
   "execution_count": null,
   "id": "825f2fa1-d5c8-41e5-af66-89d9fa3a8544",
   "metadata": {
    "ExecuteTime": {
     "end_time": "2024-01-24T08:39:05.985921400Z",
     "start_time": "2024-01-24T08:39:03.700675900Z"
    },
    "collapsed": false,
    "jupyter": {
     "outputs_hidden": false
    }
   },
   "outputs": [],
   "source": [
    "plt.figure(figsize=(7.5,4))\n",
    "for i in range(n_clusters):\n",
    "    ax = plt.subplot(3,4,i+1)\n",
    "\n",
    "    zdf.T.loc[clusters==i].T.loc[:0].plot(legend=False,ax=ax,c='k',alpha=0.25)\n",
    "    zdf.T.loc[clusters==i].T.loc[0:].plot(legend=False,ax=ax,c='k',alpha=0.25)\n",
    "\n",
    "    zdf.T.loc[clusters==i].T.mean(axis=1).loc[:0].plot(c=cluster_colors[i],ax=ax,title = 'Profile ' + str(i+1),marker='o',markersize=0.5,lw=1)\n",
    "    zdf.T.loc[clusters==i].T.mean(axis=1).loc[0:].plot(c=cluster_colors[i],ax=ax,title = 'Profile ' + str(i+1),marker='o',markersize=0.5,lw=1)\n",
    "    ax.set_xlabel('Weeks postpartum',fontsize=7)\n",
    "    ax.set_xlim([-60,80])\n",
    "    ax.set_yticks([])\n",
    "    ax.set_ylim([-6,6])\n",
    "    ax.set_xticks(np.arange(-40,80,40),np.arange(-40,80,40),fontsize=7)\n",
    "    ax.yaxis.set_tick_params(which='minor', bottom=False)\n",
    "    remove_top_right_frame([ax])\n",
    "    \n",
    "ax1,ax2,ax3,ax4 = plt.subplot(345),plt.subplot(346),plt.subplot(347),plt.subplot(348)\n",
    "res['x']           .plot(ax=ax1,c=cluster_colors[0])              \n",
    "(1/res['x'])       .plot(ax=ax2,c=cluster_colors[1])          \n",
    "res['y']           .plot(ax=ax3,c=cluster_colors[2])              \n",
    "(1/res['y'])       .plot(ax=ax4,c=cluster_colors[3])         \n",
    "\n",
    "remove_top_right_frame([ax1,ax2,ax3,ax4])\n",
    "[ax.set_yticks([]) for ax in [ax1,ax2,ax3,ax4]]\n",
    "[ax.set_xlabel('Weeks postpartum',fontsize=7) for ax in [ax1,ax2,ax3,ax4]]\n",
    "[ax.set_xlim([-60,80]) for ax in [ax1,ax2,ax3,ax4]]\n",
    "[ax.set_xticks(np.arange(-40,80,40), np.arange(-40,80,40), fontsize=7) for ax in [ax1,ax2,ax3,ax4]]\n",
    "\n",
    "ax1.set_ylim([1-0.4,1+0.4])\n",
    "ax2.set_ylim([1-0.4,1+0.4])\n",
    "ax3.set_ylim([1-0.4,1+0.4])\n",
    "ax4.set_ylim([1-0.4,1+0.4])\n",
    "\n",
    "ax1.set_title('$X$',fontsize=10)\n",
    "ax2.set_title('$X^{-1}$',fontsize=10)\n",
    "ax3.set_title('$Y$',fontsize=10)\n",
    "ax4.set_title('$Y^{-1}$',fontsize=10)\n",
    "\n",
    "ax1,ax2,ax3 = plt.subplot(3,4,10),plt.subplot(3,4,11),plt.subplot(3,4,12)\n",
    "res.load.plot(ax=ax1,c='k',lw=2)\n",
    "res.x.plot(ax=ax2,c=def_color[3],lw=2)\n",
    "res.y.plot(ax=ax3,c=def_color[0],lw=2)\n",
    "\n",
    "for ax in [ax1,ax2,ax3]:\n",
    "    ax.set_xlim([-60,80])\n",
    "    ax.axvspan(-38,0,color='dimgray',alpha=0.2,zorder=-20)\n",
    "    ax.set_yticks([])\n",
    "    ax.set_xticks([])\n",
    "    remove_top_right_frame([ax])\n",
    "\n",
    "ax1.set_title('Load')\n",
    "ax2.set_title('X')\n",
    "ax3.set_title('Y')\n",
    "[ax.set_xticks(np.arange(-40,80,40)) for ax in [ax1,ax2,ax3]]\n",
    "[ax.set_xlabel('Weeks postpartum') for ax in [ax1,ax2,ax3]]\n",
    "\n",
    "plt.subplots_adjust(hspace=1,wspace=0.35)\n",
    "plt.savefig('M_2_zscore.pdf',dpi=300,bbox_inches = 'tight',pad_inches=0.1); plt.show()\n",
    "plt.show()"
   ]
  },
  {
   "cell_type": "markdown",
   "id": "53147d0e-2304-4f21-b9a5-d60f05373937",
   "metadata": {},
   "source": [
    "## Try to cluster by the best affine function (didn't work)"
   ]
  },
  {
   "cell_type": "code",
   "execution_count": null,
   "id": "0886dcab-405c-4e2b-a7b2-34aea3bfe36f",
   "metadata": {},
   "outputs": [],
   "source": [
    "def affine_regress(test1, test2, plot_large_p_val=0.):\n",
    "    # Find the affine transformation with best results from test2 to test1\n",
    "    q_test1 = get_stats_from_dataset(test1, \"quantile\", merge_timepoints=False)[1]\n",
    "    q_test2 = get_stats_from_dataset(test2, \"quantile\", merge_timepoints=False)[1]\n",
    "    res = linregress(q_test2, q_test1, \"greater\")\n",
    "    if plot_large_p_val and (res.pvalue > plot_large_p_val or res.slope < 0):\n",
    "        plt.plot(q_test2 * res.slope + res.intercept, \"r\")\n",
    "        plt.plot(q_test2, \"g\")\n",
    "        plt.plot(q_test1, \"b\")\n",
    "        plt.annotate(f\"P-value:{res.pvalue:.5f}, slope:{res.slope:.2f}\", xycoords='figure fraction', xy=(0.8,0.8), ha=\"right\")\n",
    "        plt.annotate(f\"{test1}, {test2}\", xycoords='figure fraction', xy=(0.8,0.78), ha=\"right\")\n",
    "        plt.show()\n",
    "    return res.slope, res.intercept, res.pvalue\n",
    "\n",
    "\n",
    "def affine_regress_qp_solver(test1, test2):\n",
    "    q_test1 = get_stats_from_dataset(test1, \"quantile\", merge_timepoints=False)[1]\n",
    "    q_test2 = get_stats_from_dataset(test2, \"quantile\", merge_timepoints=False)[1]\n",
    "    # optimize sum(test1_i - slope*test2_i - intercept)**2 where slope>0\n",
    "    # Removing constants optimize sum((slope*test2_i)**2) + intercept**2 + sum(2*slope*intercept*test2_i) - 2*slope*sum(test1_i*test2_i) -2*sum(test2_i)*intercept\n",
    "    cost_pd_mat = np.array((((q_test2 ** 2).sum(), q_test2.sum()),(q_test2.sum(), len(q_test2)))) * 2\n",
    "    cost_vec = np.array((-2*(q_test1 * q_test2).sum(), -2 * q_test1.sum()))\n",
    "    lower_bound_vec = np.array((0, -np.inf), dtype=float)\n",
    "    return solve_qp(P=cost_pd_mat, q=cost_vec, lb=lower_bound_vec, solver=\"cvxopt\")\n",
    "    \n",
    "\n",
    "def calc_pearsonr_best_affine_all_tests(tests_quantile_df):\n",
    "    cols = tests_quantile_df.columns\n",
    "    affine_pearson = pd.DataFrame(np.empty((len(cols), len(cols)), dtype=float),\n",
    "                                  columns=cols, index=cols)\n",
    "    for i in trange(len(cols)):\n",
    "        test1 = cols[i]\n",
    "        for j in range(i, len(cols)):\n",
    "            test2 = cols[j]\n",
    "            lin_res = affine_regress_qp_solver(test1, test2)\n",
    "            p = pearsonr(tests_quantile_df[test1], lin_res[0] * tests_quantile_df[test2] + lin_res[1]).statistic\n",
    "            affine_pearson.loc[test1, test2] = p\n",
    "            affine_pearson.loc[test2, test1] = p\n",
    "            # flip = np.random.binomial(1, 10/30000)\n",
    "            # if flip:\n",
    "            #     plt.plot(get_stats_from_dataset(test2, \"quantile\", merge_timepoints=False)[1] * lin_res[0] + lin_res[1], \"r\")\n",
    "            #     plt.plot(get_stats_from_dataset(test2, \"quantile\", merge_timepoints=False)[1], \"g\")\n",
    "            #     plt.plot(get_stats_from_dataset(test1, \"quantile\", merge_timepoints=False)[1], \"b\")\n",
    "            #     plt.annotate(f\"slope:{lin_res[0]:.2f}\", xycoords='figure fraction', xy=(0.8,0.8), ha=\"right\")\n",
    "            #     plt.annotate(f\"{test1}, {test2}\", xycoords='figure fraction', xy=(0.8,0.78), ha=\"right\")\n",
    "            #     plt.show()\n",
    "    return affine_pearson\n",
    "        "
   ]
  },
  {
   "cell_type": "code",
   "execution_count": null,
   "id": "ec4e2544-b2a7-4100-b320-39e7aea58cee",
   "metadata": {},
   "outputs": [],
   "source": [
    "tests_full_name_quantile_score = pd.DataFrame([get_quantile_stats(test)[\"value\"].rename(metadata.loc[test].name) for test in tests]).T\n",
    "affine_pearson = calc_pearsonr_best_affine_all_tests(tests_full_name_quantile_score)\n",
    "sns.clustermap(affine_pearson,method='ward',metric='euclidean',cmap='RdBu_r',center=0,figsize=(10,10),row_cluster=True,col_cluster=True)"
   ]
  },
  {
   "cell_type": "code",
   "execution_count": null,
   "id": "27a407a8-63d4-4938-8dac-9760ae321ae3",
   "metadata": {},
   "outputs": [],
   "source": [
    "plt_rc_param_figsize = plt.rcParams['figure.figsize']\n",
    "plt.rcParams['figure.figsize'] = [24,15]\n",
    "linkage_affine_pearson = linkage(squareform(1 - affine_pearson.to_numpy(), checks=False), method=\"ward\")\n",
    "clusters_affine_pearson = pd.Series(fcluster(linkage_affine_pearson, 3, criterion=\"maxclust\"), index=tests_full_name_quantile_score.columns, name=\"cluster\")\n",
    "for i in clusters_affine_pearson.unique():\n",
    "    ax = plt.subplot(1,max(clusters_affine_pearson.unique()) + 1,i)\n",
    "    clust_i = pd.DataFrame(tests_full_name_quantile_score, index=tests_full_name_quantile_score.index, columns=tests_full_name_quantile_score.columns).T[clusters_affine_pearson == i]\n",
    "    rep = clust_i.sample().index[0]\n",
    "    for test in clust_i.index:\n",
    "        coef = affine_regress_qp_solver(rep, test)\n",
    "        ax.plot(clust_i.loc[test] * coef[0] + coef[1],c='k',alpha=0.25)\n",
    "    # center_i = clust_i.mean()\n",
    "    # center_i.plot(c=def_color[i],ax=ax,title = 'Profile ' + str(i),marker='o',markersize=0,lw=2)\n",
    "    ax.set_xlabel('Weeks postpartum',fontsize=7)\n",
    "    ax.set_xlim([-60,80])\n",
    "    # ax.set_yticks([])\n",
    "    ax.set_ylim([0,1])\n",
    "    ax.set_xticks(np.arange(-40,80,40),np.arange(-40,80,40),fontsize=7)\n",
    "    ax.yaxis.set_tick_params(which='minor', bottom=False)\n",
    "    ax.axvline(0, linestyle=\"dotted\", alpha=0.5, c=\"c\")\n",
    "    ax.set_aspect(100)\n",
    "    remove_top_right_frame([ax])\n",
    "\n",
    "plt.show()\n",
    "plt.clf()\n",
    "\n",
    "ax        = plt.subplot(111)\n",
    "pca_transform       = PCA(n_components=2).fit_transform(tests_full_name_quantile_score.T)\n",
    "pc_scores = pd.DataFrame(pca_transform.T,columns=tests_full_name_quantile_score.columns).T\n",
    "for i in clusters_affine_pearson.unique():\n",
    "    pc_scores.loc[np.array(tests_full_name_quantile_score.columns)[clusters_affine_pearson == i ]].plot.scatter(x=0,y=1,c=def_color[i],ax=ax,s=60,edgecolor='k',linewidth=0.4)\n",
    "ax.set_xticks([]); ax.set_xlabel('PC 1')\n",
    "ax.set_yticks([]); ax.set_ylabel('PC 2')   \n",
    "ax.set_aspect(2)\n",
    "remove_top_right_frame([ax])  \n",
    "\n",
    "plt.subplots_adjust(wspace=0.2)\n",
    "plt.show()\n",
    "\n",
    "plt.rcParams['figure.figsize'] = plt_rc_param_figsize"
   ]
  },
  {
   "cell_type": "markdown",
   "id": "e213925f-8b2d-4a55-9fd1-186442139967",
   "metadata": {},
   "source": [
    "# Cluster by spearman correlation (quantiles)"
   ]
  },
  {
   "cell_type": "code",
   "execution_count": null,
   "id": "0a869d14-9379-42fe-9170-9f76e1cdc3d4",
   "metadata": {
    "ExecuteTime": {
     "end_time": "2024-01-24T08:38:56.631776800Z",
     "start_time": "2024-01-24T08:38:54.949528400Z"
    },
    "collapsed": false,
    "jupyter": {
     "outputs_hidden": false
    }
   },
   "outputs": [],
   "source": [
    "#.drop(index=[-2.5, -1.5, -0.5,0.5,1.5,2.5])\n",
    "tests_quantile_df = pd.DataFrame([get_quantile_stats(test)[\"value\"].rename(metadata.loc[test][\"Nice name\"]) for test in tests]).T\n",
    "#rank_quantile_df = pd.DataFrame(rankdata(tests_quantile_df, axis=0), columns=tests_quantile_df.columns, index=tests_quantile_df.index)\n",
    "spearman_stat, spearman_p = spearmanr(tests_quantile_df)\n",
    "# pearson_stat = tests_quantile_df.corr(method='pearson')\n",
    "# pearson_stat_df = pd.DataFrame(pearson_stat, index=tests_quantile_df.columns, columns=tests_quantile_df.columns)\n",
    "spearman_stat_df = pd.DataFrame(spearman_stat, index=tests_quantile_df.columns, columns=tests_quantile_df.columns)\n",
    "distance_matrix = squareform(1 - spearman_stat)\n",
    "spear_dist = 1 - spearman_stat\n",
    "linkage_spearman = linkage(distance_matrix, method=\"ward\")"
   ]
  },
  {
   "cell_type": "code",
   "execution_count": null,
   "id": "60d12440-1eb3-4adf-8dfb-477281397a12",
   "metadata": {},
   "outputs": [],
   "source": [
    "sum_distances = []\n",
    "max_clusters = 11\n",
    "\n",
    "for k in range(1, max_clusters + 1):\n",
    "    clusters = fcluster(linkage_spearman, k, criterion='maxclust')\n",
    "    # All intra-cluster pairs\n",
    "    for i in range(1, k + 1):\n",
    "        clust_i_inds = np.argwhere(clusters == i)\n",
    "        clust_dist = 0\n",
    "        # Add all pairwise points in cluster using spear_dist as distance\n",
    "        for ind_clust_row in range(len(clust_i_inds)):\n",
    "            clust_dist += sum([spear_dist[clust_i_inds[ind_clust_row], clust_i_inds[ind_clust_col]] for ind_clust_col in range(ind_clust_row + 1, len(clust_i_inds))])\n",
    "    # Calculate within-cluster sum of squares (wss)\n",
    "    sum_distances.append(clust_dist)\n",
    "plt.plot(range(1, max_clusters + 1), sum_distances, marker='o')\n",
    "plt.xlabel('Number of clusters')\n",
    "plt.ylabel('Sum distance')\n",
    "plt.title('Elbow Method For Optimal k')\n",
    "plt.show()\n",
    "plt.rcParams['figure.figsize'] = plt_rc_param_figsize\n",
    "\n",
    "ranked_quantiles_by_week = rankdata(tests_quantile_df, axis=0)\n",
    "pca_transform = PCA(n_components=2).fit_transform(ranked_quantiles_by_week.T)\n",
    "pc_scores = pd.DataFrame(pca_transform.T,columns=tests_quantile_df.columns).T\n",
    "spearman_colors = {1: \"green\", 2: \"orange\", 3: \"cyan\", 4: \"magenta\"}\n",
    "\n",
    "for i, k in enumerate((3,4)):\n",
    "    clusters = fcluster(linkage_spearman, k, criterion='maxclust')    \n",
    "    ax        = plt.subplot(1,2,i + 1)\n",
    "    for j in range(1, k + 1):\n",
    "        c = spearman_colors[j]\n",
    "        pc_scores.loc[np.array(tests_quantile_df.columns)[clusters == j ]].plot.scatter(x=0,y=1,c=c,ax=ax,s=60,edgecolor='k',linewidth=0.4)\n",
    "    print()\n",
    "    ax.set_xticks([]); ax.set_xlabel('PC 1')\n",
    "    ax.set_yticks([]); ax.set_ylabel('PC 2')   \n",
    "    ax.set_aspect(2)\n",
    "    remove_top_right_frame([ax])  \n",
    "\n",
    "plt.subplots_adjust(wspace=0.2)\n",
    "plt.show()\n",
    "\n"
   ]
  },
  {
   "cell_type": "markdown",
   "id": "ebc2b03c-c1c6-4039-93ab-c5a54b8828cb",
   "metadata": {},
   "source": [
    "##### Conclusion: k=2 is the elbow, k=3 is better (left). k=4 (right) was chosen because we wanted to have both the X and Y inverse profiles, and the clusters don't mix _too_ much"
   ]
  },
  {
   "cell_type": "markdown",
   "id": "e0011c90-6a66-4ba8-8303-55ba68ac88c1",
   "metadata": {},
   "source": [
    "### Plot clusters with quantile values"
   ]
  },
  {
   "cell_type": "code",
   "execution_count": null,
   "id": "a42ba49a-c684-4ed4-835e-3154c3122ced",
   "metadata": {},
   "outputs": [],
   "source": [
    "spearman_4_cluster = fcluster(linkage_spearman, 4, criterion=\"maxclust\")\n",
    "clusters_spearman_colors = pd.Series(spearman_4_cluster, index=tests_quantile_df.columns, name=\"cluster\").map(spearman_colors)\n",
    "plt_rc_param_figsize = plt.rcParams['figure.figsize']\n",
    "plt.rcParams['figure.figsize'] = [24,10]\n",
    "clusters_spearman = pd.Series(spearman_4_cluster, index=tests_quantile_df.columns, name=\"cluster\")\n",
    "for i in clusters_spearman.unique():\n",
    "    ax = plt.subplot(1,max(clusters_spearman.unique()) + 1,i)\n",
    "    clust_i = tests_quantile_df.T[clusters_spearman == i]\n",
    "    clust_i.T.plot(legend=False,ax=ax,c='k',alpha=0.25)\n",
    "    center_i = clust_i.mean()\n",
    "    center_i.plot(c=spearman_colors[i],ax=ax,title = 'Profile ' + str(i),marker='o',markersize=0,lw=2)\n",
    "    ax.set_xlabel('Weeks postpartum',fontsize=7)\n",
    "    ax.set_xlim([-60,80])\n",
    "    ax.set_yticks([])\n",
    "    ax.set_ylim([0,1])\n",
    "    ax.set_xticks(np.arange(-40,80,40),np.arange(-40,80,40),fontsize=7)\n",
    "    ax.yaxis.set_tick_params(which='minor', bottom=False)\n",
    "    ax.axvline(0, linestyle=\"dotted\", alpha=0.5, c=\"c\")\n",
    "    remove_top_right_frame([ax])\n",
    "\n",
    "plt.show()\n",
    "plt.clf()"
   ]
  },
  {
   "cell_type": "code",
   "execution_count": null,
   "id": "afaae289-a0b7-454a-93de-5ebee7065447",
   "metadata": {
    "ExecuteTime": {
     "end_time": "2024-01-24T08:39:03.688543700Z",
     "start_time": "2024-01-24T08:39:01.954543300Z"
    },
    "collapsed": false,
    "jupyter": {
     "outputs_hidden": false
    }
   },
   "outputs": [],
   "source": [
    "order_spearman_clusts = (2, 4, 1, 3)\n",
    "plt.figure(figsize=(15,8))\n",
    "profiles_panels = (\"C\", \"D\", \"E\", \"F\")\n",
    "outlier_tests = []\n",
    "for i in clusters_spearman.unique():\n",
    "    index_subplot = order_spearman_clusts[i - 1]\n",
    "    color = def_color[3] if index_subplot <= 2 else def_color[0]\n",
    "    ax = plt.subplot(3,4, index_subplot)\n",
    "\n",
    "    clust_i = pd.DataFrame(ranked_quantiles_by_week, index=tests_quantile_df.index, columns=tests_quantile_df.columns).T[clusters_spearman == i]\n",
    "    #clust_i.T.plot(legend=False,ax=ax,c='k',alpha=0.08)\n",
    "    mean_clust_i = clust_i.mean(axis=0)\n",
    "    dist_from_mean = ((clust_i - mean_clust_i) ** 2).sum(axis=1)\n",
    "    outliers = dist_from_mean >= dist_from_mean.mean() + dist_from_mean.var() ** 0.5\n",
    "    clust_i[~outliers].T.plot(legend=False,ax=ax,c='k',alpha=0.07)\n",
    "    mean_clust_i = clust_i[~outliers].mean(axis=0)\n",
    "    mean_clust_i.plot(c=color,ax=ax, marker='o',markersize=0.5,lw=2, fontsize=14)\n",
    "    ax.annotate(profiles_panels[index_subplot - 1], xy=(-0.05,1.01), xycoords='axes fraction', horizontalalignment=\"right\", fontweight=\"bold\", fontsize=16)\n",
    "    ax.set_title('Profile ' + str(index_subplot), fontsize=14)\n",
    "    ax.set_xlabel('Weeks postpartum',fontsize=11)\n",
    "    ax.set_xlim([-60,80])\n",
    "    ax.set_yticks([])\n",
    "    #ax.set_ylim([0,1])\n",
    "    ax.axvline(0, linestyle=\"dotted\", alpha=0.5, c=\"gray\")\n",
    "    ax.set_xticks(np.arange(-40,80,40),np.arange(-40,80,40),fontsize=7)\n",
    "    ax.yaxis.set_tick_params(which='minor', bottom=False)\n",
    "    remove_top_right_frame([ax])\n",
    "    outlier_tests += list(clust_i.index[outliers].values)\n",
    "    \n",
    "ax1,ax2,ax3,ax4 = plt.subplot(345),plt.subplot(346),plt.subplot(347),plt.subplot(348)\n",
    "res['x']           .plot(ax=ax1,c=def_color[3])              \n",
    "(1/res['x'])       .plot(ax=ax2,c=def_color[3])          \n",
    "res['y']           .plot(ax=ax3,c=def_color[0])              \n",
    "(1/res['y'])       .plot(ax=ax4,c=def_color[0])         \n",
    "\n",
    "remove_top_right_frame([ax1,ax2,ax3,ax4])\n",
    "[ax.set_yticks([]) for ax in [ax1,ax2,ax3,ax4]]\n",
    "[ax.set_xlabel('Weeks postpartum',fontsize=11) for ax in [ax1,ax2,ax3,ax4]]\n",
    "[ax.set_xlim([-60,80]) for ax in [ax1,ax2,ax3,ax4]]\n",
    "[ax.set_xticks(np.arange(-40,80,40), np.arange(-40,80,40), fontsize=7) for ax in [ax1,ax2,ax3,ax4]]\n",
    "\n",
    "ax1.set_ylim([1-0.22,1+0.22])\n",
    "ax1.annotate(\"G\", xy=(-0.05,1.01), xycoords='axes fraction', horizontalalignment=\"right\", fontweight=\"bold\", fontsize=16)\n",
    "ax2.set_ylim([1-0.22,1+0.22])\n",
    "ax2.annotate(\"H\", xy=(-0.05,1.01), xycoords='axes fraction', horizontalalignment=\"right\", fontweight=\"bold\", fontsize=16)\n",
    "ax3.set_ylim([1-0.18,1+0.18])\n",
    "ax3.annotate(\"I\", xy=(-0.05,1.01), xycoords='axes fraction', horizontalalignment=\"right\", fontweight=\"bold\", fontsize=16)\n",
    "ax4.set_ylim([1-0.18,1+0.18])\n",
    "ax4.annotate(\"J\", xy=(-0.05,1.01), xycoords='axes fraction', horizontalalignment=\"right\", fontweight=\"bold\", fontsize=16)\n",
    "\n",
    "ax1.set_title('$X$',fontsize=14, x=0.44)\n",
    "ax2.set_title('$X^{-1}$',fontsize=14)\n",
    "ax3.set_title('$Y$',fontsize=14, x=0.44)\n",
    "ax4.set_title('$Y^{-1}$',fontsize=14)\n",
    "\n",
    "ax1,ax2,ax3 = plt.subplot(3,4,10),plt.subplot(3,4,11),plt.subplot(3,4,12)\n",
    "res.load.plot(ax=ax1,c='k',lw=2)\n",
    "res.x.plot(ax=ax2,c=def_color[3],lw=2)\n",
    "res.y.plot(ax=ax3,c=def_color[0],lw=2)\n",
    "\n",
    "for ax in [ax1,ax2,ax3]:\n",
    "    ax.set_xlim([-60,80])\n",
    "    ax.axvspan(-38,0,color='dimgray',alpha=0.2,zorder=-20)\n",
    "    ax.set_yticks([])\n",
    "    ax.set_xticks([])\n",
    "    remove_top_right_frame([ax])\n",
    "\n",
    "ax1.set_title('Load')\n",
    "ax1.annotate(\"L\", xy=(-0.05,1.01), xycoords='axes fraction', horizontalalignment=\"right\", fontweight=\"bold\", fontsize=16)\n",
    "ax2.set_title('X', fontsize=14)\n",
    "ax2.annotate(\"M\", xy=(-0.05,1.01), xycoords='axes fraction', horizontalalignment=\"right\", fontweight=\"bold\", fontsize=16)\n",
    "ax3.set_title('Y', fontsize=14)\n",
    "ax3.annotate(\"N\", xy=(-0.05,1.01), xycoords='axes fraction', horizontalalignment=\"right\", fontweight=\"bold\", fontsize=16)\n",
    "[ax.set_xticks(np.arange(-40,80,40)) for ax in [ax1,ax2,ax3]]\n",
    "[ax.set_xlabel('Weeks postpartum', fontsize=11) for ax in [ax1,ax2,ax3]]\n",
    "\n",
    "plt.subplots_adjust(hspace=0.5,wspace=0.2)\n",
    "plt.savefig('M_2_spearman.svg',dpi=300,bbox_inches = 'tight',pad_inches=0.1); plt.show()\n",
    "plt.show()"
   ]
  },
  {
   "cell_type": "code",
   "execution_count": null,
   "id": "e7491dbd-a786-4b29-ac85-709f8cde0dc7",
   "metadata": {},
   "outputs": [],
   "source": [
    "clusters_spearman_colors[outlier_tests] = \"grey\"\n",
    "print(outlier_tests)\n",
    "clustermap = sns.clustermap(spearman_stat_df, row_linkage=linkage_spearman, col_linkage=linkage_spearman, cmap='RdBu_r',center=0,figsize=(10,10), row_colors=clusters_spearman_colors, col_colors=clusters_spearman_colors)\n",
    "clustermap.savefig('Figure_S4.svg', dpi=300, bbox_inches='tight')\n",
    "plt.show()\n",
    "for i in spearman_colors.keys(): \n",
    "    print(f\"{order_spearman_clusts[i - 1]}: {spearman_colors[i]}\")"
   ]
  },
  {
   "cell_type": "markdown",
   "id": "7d7a565c-f554-4b4d-9103-31b2c713eca3",
   "metadata": {},
   "source": [
    "# Pregnancy-in-time on 2D plot and settling time"
   ]
  },
  {
   "cell_type": "code",
   "execution_count": null,
   "id": "01535e16-3042-44ca-a5d0-5e3461de85c3",
   "metadata": {
    "ExecuteTime": {
     "end_time": "2024-01-24T08:39:07.320248500Z",
     "start_time": "2024-01-24T08:39:06.001677800Z"
    }
   },
   "outputs": [],
   "source": [
    "def scale_weeks(weeks): ## define coloarmap\n",
    "    temp           = weeks.copy()\n",
    "    temp[temp < 0] = temp[temp < 0]/38\n",
    "    temp[temp > 0] = temp[temp > 0]/80\n",
    "    return temp\n",
    "\n",
    "minima = -1\n",
    "maxima = 1\n",
    "norm   = Normalize(vmin=minima, vmax=maxima, clip=True)\n",
    "mapper = cm.ScalarMappable(norm=norm, cmap=cm.RdYlBu_r)\n",
    "\n",
    "\n",
    "tdf            = pd.DataFrame([get_test_data(test)['quantile']['value'] for test in tests],index=tests).fillna(method ='backfill').T\n",
    "pca            = PCA(); pca.fit(tdf)\n",
    "explained_var  = pca.explained_variance_ratio_\n",
    "cumulative_var = np.cumsum(explained_var)\n",
    "pcomps         = pd.DataFrame(data = pca.transform(tdf.to_numpy()),index=tdf.index)\n",
    "pcolors        = scale_weeks(tdf.index.to_numpy())\n",
    "\n",
    "\n",
    "plt.figure(figsize=(9,2))\n",
    "ax  = plt.subplot(141)\n",
    "ax.plot(range(1, len(explained_var[:10]) + 1), cumulative_var[:10],marker='o',c='k',markersize=4)\n",
    "\n",
    "ax.set_xticks(range(1, len(explained_var) + 1))\n",
    "ax.set_xlabel('Principal Component')\n",
    "ax.set_ylabel('Explained Variance\\nCumulative (%)')\n",
    "ax.set_xlim([0.5,10.5])\n",
    "remove_top_right_frame([ax])\n",
    "\n",
    "\n",
    "## plot\n",
    "ax   = plt.subplot(142)\n",
    "pcomps[0].plot(ax=ax,ylabel='PC1',c='k')\n",
    "remove_top_right_frame([ax])\n",
    "ax.set_xlim([-60,80])\n",
    "ax.set_xlabel('Weeks Postpartum')\n",
    "ax.set_yticks([])\n",
    "\n",
    "ax   = plt.subplot(143)\n",
    "pcomps[1].plot(ax=ax,ylabel='PC2',c='k')\n",
    "remove_top_right_frame([ax])\n",
    "ax.set_xlim([-60,80])\n",
    "ax.set_xlabel('Weeks Postpartum')\n",
    "ax.set_yticks([])\n",
    "\n",
    "ax   = plt.subplot(144)\n",
    "scat = ax.scatter(pcomps[0],pcomps[1],c=mapper.to_rgba(pcolors),s=10,edgecolor='k',lw=0.2)\n",
    "ax.set_xlabel('PC-1')\n",
    "ax.set_ylabel('PC-2')\n",
    "remove_top_right_frame([ax])\n",
    "cbar = plt.colorbar(mapper,ax=ax,label=\"Weeks postpartum\")\n",
    "cbar.set_ticks([-1,-0.5,0,0.5,1])\n",
    "cbar.set_ticklabels([-40,-20,0,40,80])\n",
    "plt.xticks([])\n",
    "plt.yticks([])\n",
    "\n",
    "plt.tight_layout()\n",
    "plt.show()"
   ]
  },
  {
   "cell_type": "code",
   "execution_count": null,
   "id": "220dfbf0-02fc-473f-9aaf-d8e4f1ad15fc",
   "metadata": {
    "ExecuteTime": {
     "end_time": "2024-01-24T08:39:07.708714800Z",
     "start_time": "2024-01-24T08:39:07.320248500Z"
    }
   },
   "outputs": [],
   "source": [
    "def annotate_point(week,projections,ax,label=None):\n",
    "    if label is None:\n",
    "        label= str(week)\n",
    "    x_,y_ = projections.loc[week + 0.5].to_numpy()\n",
    "    ax.text(x_,y_,label,alpha=0.99, fontsize=9)\n",
    "    ax.scatter(x_,y_,s=16,c='k', edgecolor='gray', linewidth=0.4)\n",
    "\n",
    "\n",
    "plt.figure(figsize=(3.1,2.5))\n",
    "ax   = plt.subplot(111)\n",
    "# Mirroring on both axes is a bit easier for visualization, does not implicate conclusions\n",
    "scat = ax.scatter(-pcomps[0],-pcomps[1],c=mapper.to_rgba(pcolors),s=10,edgecolor='k',lw=0.2)\n",
    "ax.set_xlabel('PC-1', fontsize=12)\n",
    "ax.set_ylabel('PC-2', fontsize=12)\n",
    "remove_top_right_frame([ax])\n",
    "cbar = plt.colorbar(mapper,ax=ax)\n",
    "cbar.set_ticks([-1,-0.5,0,0.5,1])\n",
    "cbar.set_ticklabels([-60,-20,0,40,80], fontsize=11)\n",
    "cbar.set_label(\"Weeks postpartum\", fontsize=12)\n",
    "for (t, l) in {-38: \"Conception\",-26: \"End of\\nTrimester I\", -13: \"End of\\nTrimester II\",0: \"Delivery\", 10: \"10 weeks\\n\\tpostpartum\"}.items():\n",
    "    annotate_point(t,-pcomps[[0,1]],ax, l)\n",
    "plt.xticks([])\n",
    "plt.yticks([])\n",
    "ax.annotate(\"A\", xycoords='axes fraction', xy=(-0.2, 1.1), color=\"k\", size=16)\n",
    "plt.tight_layout() \n",
    "# plt.savefig('M_3A.svg',bbox_inches = 'tight',pad_inches=0.1,dpi=300);     \n",
    "plt.show()"
   ]
  },
  {
   "cell_type": "code",
   "execution_count": null,
   "id": "6ca12ce1-28ab-486e-925f-1f6a302c0643",
   "metadata": {
    "ExecuteTime": {
     "end_time": "2024-01-24T08:39:07.987978600Z",
     "start_time": "2024-01-24T08:39:07.708714800Z"
    }
   },
   "outputs": [],
   "source": [
    "plt.figure(figsize=(4.2,2.5))\n",
    "ax = plt.subplot(111)\n",
    "x  = np.arange(0,13,0.1)\n",
    "A  = -1.5\n",
    "a  = 0.3\n",
    "B  = 2.5\n",
    "b  = 1\n",
    "y1 = A*np.e**(-a*x)\n",
    "y2 = B*np.e**(-b*x)\n",
    "y  = y1 +  y2\n",
    "\n",
    "eband = 0.3\n",
    "ax.plot(x,y,c='gray',lw=4,zorder=5)\n",
    "\n",
    "ax.set_xlim([0,np.max(x)])   ; ax.set_xticks([])       ; ax.set_xlabel('Time', fontsize=12)\n",
    "ax.set_ylim([-0.75,1]); \n",
    "\n",
    "ax.set_yticks([0]); ax.set_ylabel('Test value ($X$)', fontsize=12);\n",
    "ax.set_yticklabels(['$X_{st}$'],fontsize=11)\n",
    "\n",
    "stime  = x[np.argmin(np.abs((np.abs(y) - eband)))]\n",
    "ax.axhline(0,zorder=-4,c='silver',lw=2)\n",
    "ax.axhline(eband,zorder=-10,c='silver',lw=1)\n",
    "ax.axhline(-eband,zorder=-10,c='silver',lw=1)\n",
    "ax.axhspan(-eband,eband,alpha=0.35,zorder=-10,color='silver')\n",
    "\n",
    "ax.scatter([stime],[-1],c='lightgray',zorder=0,marker='o',edgecolor='k')\n",
    "ax.scatter([stime],[-eband],c='lightgray',zorder=10,marker='o',edgecolor='k')\n",
    "\n",
    "ax.plot([stime,stime],[-1,-eband],c='k',ls='--',zorder=-1)\n",
    "ax.annotate(\"\", xy=(0, -eband), xytext=(stime-0.15, -eband), arrowprops=dict(arrowstyle=\"<->\",color='k'),zorder=10)\n",
    "ax.annotate(\"Settling time\", xy=(2.5, -0.675),zorder=10,c='k',ha='center',fontsize=10)\n",
    "\n",
    "ax.annotate(\"\", xy=(13, -eband), xytext=(13, eband), arrowprops=dict(arrowstyle=\"<->\",color='k'),zorder=10, annotation_clip=False)\n",
    "\n",
    "ax.annotate(\"0.2$\\sigma_{X}$\", xy=(13.25, -0.075),zorder=10,c='k',ha='left',fontsize=9, xycoords='data', annotation_clip=False)\n",
    "ax.annotate(\"B\", xycoords='axes fraction', xy=(-0.3, 1.1), color=\"k\", size=16)\n",
    "\n",
    "rtimeA = np.log(2)/a\n",
    "rtimeB = np.log(2)/b\n",
    "\n",
    "remove_top_right_frame([ax])\n",
    "plt.tight_layout()\n",
    "plt.savefig('M_3B.svg',bbox_inches = 'tight',pad_inches=0.1,dpi=300); \n",
    "plt.show()"
   ]
  },
  {
   "cell_type": "code",
   "execution_count": null,
   "id": "d831fa04-1081-41c6-8f5d-61bb348401c2",
   "metadata": {
    "ExecuteTime": {
     "end_time": "2024-02-19T15:05:30.183178900Z",
     "start_time": "2024-02-19T15:05:29.644046Z"
    }
   },
   "outputs": [],
   "source": [
    "from scipy.ndimage import gaussian_filter\n",
    "\n",
    "sds_threshold = 0.2\n",
    "sett_time = []\n",
    "for i,test in enumerate(tests):\n",
    "\n",
    "    x,mu,err,n = get_stats_from_dataset(test,'postpartum_SDS',merge_timepoints=False)\n",
    "    y          = mu.fillna(method='backfill')\n",
    "    y          = pd.DataFrame(gaussian_filter(y, sigma=1, mode='nearest'),index=y.index)\n",
    "    \n",
    "    if np.mean(err) > sds_threshold:\n",
    "        sett = np.nan\n",
    "    else:\n",
    "\n",
    "        sett0 = y.dropna().index[0]\n",
    "        temp  = (np.abs(y) > sds_threshold).values\n",
    "        if np.sum(temp) == 0:\n",
    "            sett  = sett0\n",
    "        else:\n",
    "            wsett = np.argwhere(np.array([np.sum(temp[i:])/len(temp[i:]) for i in range(len(temp))])< 0.1)\n",
    "            if len(wsett)>0:\n",
    "                try:\n",
    "                    sett = y.index[wsett[0][0]]\n",
    "                    sett = y.loc[sett+1:].index[np.argwhere((np.abs(y).loc[sett+1:]<sds_threshold).values)[0][0]]\n",
    "                except:\n",
    "                    sett = np.nan\n",
    "    sett_time.append(sett)\n",
    "    \n",
    "plt.figure(figsize=(4,3))\n",
    "ax1              = plt.subplot(111)\n",
    "N, bins, patches = ax1.hist(sett_time,bins=20, zorder=2, rwidth=0.9)\n",
    "ax1.set_xlabel('Settling time (weeks)')\n",
    "ax1.set_ylabel('Number of lab tests')\n",
    "remove_top_right_frame([ax1])\n",
    "plt.show()"
   ]
  },
  {
   "cell_type": "code",
   "execution_count": null,
   "id": "70e59690-6b25-483f-b020-336a14f220ae",
   "metadata": {
    "ExecuteTime": {
     "end_time": "2024-01-24T08:39:08.403464800Z",
     "start_time": "2024-01-24T08:39:08.324361300Z"
    }
   },
   "outputs": [],
   "source": [
    "group_color ={'Liver'          : def_color[5],\n",
    "              'Musculoskeletal': def_color[7],\n",
    "              'Immune'         : def_color[0],\n",
    "              'RBCs'           : def_color[3],\n",
    "              'Metabolism'     : def_color[1],\n",
    "              'Coagulation'    : def_color[4],\n",
    "              'Endocrine'      : def_color[2],\n",
    "              'Renal'          : def_color[6]}  "
   ]
  },
  {
   "cell_type": "code",
   "execution_count": null,
   "id": "ba09c2a3-eff4-48c3-baa6-b410899586d8",
   "metadata": {
    "ExecuteTime": {
     "end_time": "2024-01-24T08:39:12.160178300Z",
     "start_time": "2024-01-24T08:39:08.357007100Z"
    }
   },
   "outputs": [],
   "source": [
    "df_sett_time          = pd.DataFrame(sett_time,index=tests,columns=['settling time'])\n",
    "df_sett_time['Group'] = metadata['Group'].loc[tests]\n",
    "df_sett_time['test']  = [metadata.loc[test]['Nice name'] if len(metadata.loc[test]['Nice name']) <= 16 else metadata.loc[test]['Short name'] for test in tests]\n",
    "\n",
    "def bar_plot_ax(ax,tdf,c, panel=None):\n",
    "    ax.bar(range(len(tdf)),tdf['settling time'],color=c)\n",
    "    ax.set_xticks(range(len(tdf)))   \n",
    "    ax.set_xticklabels(tdf['test'],rotation=90, fontsize=8)\n",
    "    for ytick_label in ax.get_yticklabels():\n",
    "        ytick_label.set_fontsize(11)\n",
    "    ax.set_title(tdf['Group'].iloc[0], fontsize=14)\n",
    "    ax.set_ylim([0,55])\n",
    "    ax.yaxis.label.set_fontsize(12)\n",
    "    remove_top_right_frame([ax])\n",
    "    if panel is not None:\n",
    "        ax.annotate(panel, xycoords='axes fraction', xy=(-0.8, 1.2), color=\"k\", size=16)\n",
    "        \n",
    "groups_ordered = ['Musculoskeletal','Renal','Liver','Immune','RBCs','Metabolism','Coagulation','Endocrine']\n",
    "fig = plt.figure(layout=\"constrained\",figsize=(11,5))\n",
    "gs  = GridSpec(5, 38, figure=fig)\n",
    "\n",
    "for i,group in enumerate(groups_ordered):\n",
    "    if i < 4:\n",
    "        k = 0\n",
    "    else:\n",
    "        k = 3\n",
    "    \n",
    "    if np.mod(i,4) == 0:\n",
    "        L0 = 0\n",
    "        L1 = L0+len(df_sett_time.loc[df_sett_time.Group ==group])\n",
    "        ax = fig.add_subplot(gs[k:k+2, L0:L1])   \n",
    "        ax.set_ylabel('Settling time (Weeks)')\n",
    "    else:\n",
    "        L1 = L0+len(df_sett_time.loc[df_sett_time.Group ==group])\n",
    "        ax = fig.add_subplot(gs[k:k+2, L0:L1])   \n",
    "        ax.set_yticks([])\n",
    "        ax.spines['left'].set_visible(False)\n",
    "\n",
    "    bar_plot_ax(ax,df_sett_time.loc[df_sett_time.Group ==group].sort_values(by='settling time'),group_color[group], \"C\" if i==0 else None)\n",
    "    L0 = L1\n",
    "    \n",
    "plt.subplots_adjust(hspace=0.5,wspace=0.55)    \n",
    "plt.savefig('M_3C.svg',bbox_inches = 'tight',pad_inches=0.1,dpi=300); \n",
    "plt.show()"
   ]
  },
  {
   "cell_type": "markdown",
   "id": "841e53e9",
   "metadata": {},
   "source": [
    "# Preconception dyanmics"
   ]
  },
  {
   "cell_type": "code",
   "execution_count": null,
   "id": "1071db9a-cf87-48b5-aefa-9b225c2a6083",
   "metadata": {
    "ExecuteTime": {
     "end_time": "2024-01-24T08:39:13.046978500Z",
     "start_time": "2024-01-24T08:39:12.144550Z"
    }
   },
   "outputs": [],
   "source": [
    "def lin_reg(xdat,a,b):\n",
    "    return a + b*xdat\n",
    "\n",
    "summary = []\n",
    "precon_tests = list(tests) + [\"C_REACTIVE_PROTEIN_CRP\"]\n",
    "for i,test in enumerate(precon_tests):\n",
    "    tdf   = get_test_data(test)['quantile']*100\n",
    "    ydat  = tdf.loc[:-38]['value'].values\n",
    "    yerr  = tdf.loc[:-38]['error'].values\n",
    "    xdat  = tdf.loc[:-38]['value'].index\n",
    "    n     = tdf.loc[:-38]['n'].values\n",
    "    popt,pcov  = curve_fit(lin_reg,xdat,ydat,sigma=yerr)\n",
    "    perr       = np.sqrt(np.diag(pcov))\n",
    "    zscore     = popt[1]/perr[1]\n",
    "    summary.append([zscore,*popt,*perr])\n",
    "\n",
    "reg_res                    = pd.DataFrame(summary,index=precon_tests,columns=['Zscore','intercept','coeff','intercept_sd','coeff_sd'])\n",
    "reg_res['abs_zscore']      = np.abs(reg_res['Zscore'])\n",
    "reg_res['pvalue']          = stats.norm.sf(reg_res['abs_zscore']).flat[:]\n",
    "reg_res['pvalue_adjusted'] = fdrcorrection(reg_res['pvalue'])[1]\n",
    "reg_res['FDR']             = reg_res['pvalue_adjusted'] < 0.05\n",
    "reg_res['Name']            = [metadata.loc[test]['Nice name'] for test in reg_res.index]\n",
    "reg_res['significant']     = (np.abs(reg_res['coeff']) > 0.11) & reg_res['FDR']"
   ]
  },
  {
   "cell_type": "code",
   "execution_count": null,
   "id": "c546c9e2-0019-49be-bebb-3521118582af",
   "metadata": {},
   "outputs": [],
   "source": [
    "df_precon          = pd.DataFrame(reg_res[['coeff','coeff_sd','significant']],index=precon_tests)\n",
    "df_precon['Group'] = metadata['Group'].loc[precon_tests]\n",
    "df_precon['test']  = [metadata.loc[test]['Nice name'] if len(metadata.loc[test]['Nice name']) <= 16 else metadata.loc[test]['Short name'] for test in precon_tests]\n",
    "df_precon['coeff_ci']    = df_precon['coeff_sd']*2"
   ]
  },
  {
   "cell_type": "code",
   "execution_count": null,
   "id": "6f2b4273-72d9-497b-b002-755f998ea4a7",
   "metadata": {},
   "outputs": [],
   "source": [
    "def bar_plot_ax(ax,tdf,c):\n",
    "    bars = ax.bar(range(len(tdf)),tdf['coeff'],color=c)\n",
    "    for bar, significant in zip(bars, tdf['significant']):\n",
    "        if not significant:  # If 'significant' is False\n",
    "            bar.set_alpha(0.2)  # Set alpha to 0.2\n",
    "    \n",
    "    ax.errorbar(range(len(tdf)),tdf['coeff'],tdf['coeff_ci'],color='k',fmt='o',markersize=2,alpha=1,linewidth=0.7)\n",
    "    ax.set_xticks(range(len(tdf)))   \n",
    "    ax.set_xticklabels(tdf['test'],rotation=90)   \n",
    "    ax.set_title(tdf['Group'].iloc[0])\n",
    "    ax.set_ylim([-0.4,0.4])\n",
    "    remove_top_right_frame([ax])  \n",
    "\n",
    "groups_ordered = ['Liver','Immune','Renal','Musculoskeletal','Coagulation','RBCs','Metabolism','Endocrine']\n",
    "\n",
    "fig = plt.figure(layout=\"constrained\",figsize=(9,5))\n",
    "gs  = GridSpec(5, 38, figure=fig)\n",
    " \n",
    "for i,group in enumerate(groups_ordered):\n",
    "    if i < 4:\n",
    "        k = 0\n",
    "    else:\n",
    "        k = 3\n",
    "    \n",
    "    if np.mod(i,4) == 0:\n",
    "        L0 = 0\n",
    "        L1 = L0+len(df_precon.loc[df_precon.Group ==group])\n",
    "        ax = fig.add_subplot(gs[k:k+2, L0:L1])   \n",
    "        ax.set_ylabel('Preconception slope\\n(Quantiles/week)')\n",
    "    else:\n",
    "        L1 = L0+len(df_precon.loc[df_precon.Group ==group])\n",
    "        ax = fig.add_subplot(gs[k:k+2, L0:L1])   \n",
    "        ax.set_yticks([])\n",
    "        ax.spines['left'].set_visible(False)\n",
    "\n",
    "    bar_plot_ax(ax,df_precon.loc[df_precon.Group ==group].sort_values(by='coeff'),c=group_color[group])\n",
    "    L0 = L1\n",
    "\n",
    "plt.annotate(\"D\", xycoords='figure fraction', xy=(0,1), fontsize=16)    \n",
    "plt.savefig('M_5D.svg',bbox_inches = 'tight',pad_inches=0.1,dpi=300); \n",
    "plt.show()"
   ]
  },
  {
   "cell_type": "code",
   "execution_count": null,
   "id": "125c1f1d-a083-47b9-9175-4d7a13c328f0",
   "metadata": {},
   "outputs": [],
   "source": [
    "def plot_preconception(test,axi, subplot_label):\n",
    "\n",
    "    ax    = axi.inset_axes([0.6, 0.6, 0.42, 0.42])\n",
    "    tdf   = get_test_data(test)['quantile']\n",
    "    ydat  = tdf.loc[:-38]['value'].values\n",
    "    yerr  = tdf.loc[:-38]['error'].values\n",
    "    xdat  = tdf.loc[:-38]['value'].index\n",
    "    n     = tdf.loc[:-38]['n'].values\n",
    "\n",
    "    x,v,e,n = get_stats_from_dataset(test,'quantile',merge_timepoints=False)\n",
    "    axi.errorbar(x,v,e,c='k',lw=1,fmt='o',markersize=1,zorder=-3,ecolor='gray')   \n",
    "\n",
    "    popt,pcov  = curve_fit(lin_reg,xdat,ydat,sigma=yerr)\n",
    "    perr       = np.sqrt(np.diag(pcov))\n",
    "    zscore     = popt[1]/perr[1]\n",
    "    ypred = lin_reg(xdat,*popt)\n",
    "\n",
    "    n     = len(ydat)\n",
    "    m     = len(popt)\n",
    "    dof   = n - m\n",
    "    alpha = 0.05\n",
    "    tails = 2\n",
    "    t_critical = stats.t.ppf(1 - (alpha / tails), dof)\n",
    "\n",
    "    y_bar = np.mean(ypred)\n",
    "    R2    = np.sum((ypred - y_bar)**2) / np.sum((ydat - y_bar)**2)\n",
    "\n",
    "    resid    = ydat - ypred\n",
    "    # chi2     = sum((resid / ypred)**2)\n",
    "    # chi2_red = chi2 / dof\n",
    "    std_err  = np.sqrt(sum(resid**2) / dof)\n",
    "\n",
    "    ax.errorbar(xdat, ydat,yerr,fmt='o',c='k',markersize=1,lw=0.5)\n",
    "    xlim     = ax.get_xlim()\n",
    "    ylim     = ax.get_ylim()\n",
    "    x_fitted = np.linspace(xlim[0], xlim[1], 100)\n",
    "    y_fitted = lin_reg(x_fitted,*popt)\n",
    "    ci       = t_critical * std_err * np.sqrt(1 / n + (x_fitted - np.mean(xdat))**2 / np.sum((xdat - np.mean(xdat))**2))\n",
    "\n",
    "    ax.plot(np.array(xlim), popt[0] + popt[1] * np.array(xlim),c='k')\n",
    "    axi.plot(np.array(xlim), popt[0] + popt[1] * np.array(xlim),lw=1,c='k', zorder=7)\n",
    "\n",
    "    ax. fill_between(x_fitted, y_fitted + ci, y_fitted - ci, facecolor='r',alpha=0.5, zorder=1)  \n",
    "    axi.fill_between(x_fitted, y_fitted + ci, y_fitted - ci, facecolor='r',alpha=0.5, zorder=6)   \n",
    "\n",
    "    axi.set_xlim([-60,80])\n",
    "    axi.set_xlabel('Weeks postpartum')\n",
    "    ax.set_xticks([])\n",
    "    ax.set_yticks([])\n",
    "    axi.axvline(x=-38,c='k',ls='--',lw=1)\n",
    "    axi.set_title('')\n",
    "    axi.set_title(metadata.loc[test]['Nice name'])\n",
    "    axi.annotate('Conception',(-36,16.5),fontsize=8)\n",
    "    axi.annotate(subplot_label, xycoords='axes fraction', xy=(-0.1, 1.1), color=\"k\", size=16)\n",
    "    remove_top_right_frame([axi,ax])\n",
    "    \n",
    "    \n",
    "plt.figure(figsize=(8,2))\n",
    "ax1,ax2,ax3   = plt.subplot(131),plt.subplot(132),plt.subplot(133)     \n",
    "plot_preconception('FOLIC_ACID',ax1, \"A\")\n",
    "plot_preconception('C_REACTIVE_PROTEIN_CRP',ax2, \"B\")\n",
    "plot_preconception('ALBUMIN',ax3, \"C\")\n",
    "ax1.set_ylabel('Quantile')\n",
    "plt.tight_layout();\n",
    "plt.savefig('M_5ABC.svg',bbox_inches = 'tight',pad_inches=0.1,dpi=300); \n",
    "plt.show()"
   ]
  },
  {
   "cell_type": "markdown",
   "id": "14fdc854",
   "metadata": {},
   "source": [
    "# System by System"
   ]
  },
  {
   "cell_type": "code",
   "execution_count": null,
   "id": "cfa9cc5d-480d-4cdf-b68b-30225ed840b7",
   "metadata": {
    "ExecuteTime": {
     "end_time": "2024-10-28T13:39:06.619756Z",
     "start_time": "2024-10-28T13:39:06.588311Z"
    }
   },
   "outputs": [],
   "source": [
    "def plot_tests_one_axe(ax,tests,title,return_color=False,set_color=None):\n",
    "    qstd   = pd.DataFrame([data[test]['quantile']['value'].std() for test in tests],index = tests)\n",
    "    tests_ = qstd.sort_values(by =0,ascending=False).index\n",
    "    norm   = Normalize(vmin=0, vmax=len(tests_)-1, clip=True)\n",
    "    mapper = cm.ScalarMappable(norm=norm, cmap=cm.turbo)\n",
    "    texts = []\n",
    "    for j,test in enumerate(tests_):\n",
    "        x,v,e,n = get_stats_from_dataset(test,'quantile')\n",
    "        offset  = 0.5#v.iloc[:5].mean()\n",
    "        v       = v - offset\n",
    "        \n",
    "        if set_color is None:  \n",
    "            color = mapper.to_rgba(j)\n",
    "        else:\n",
    "            color = set_color[test]\n",
    "            \n",
    "        ax.plot(x,v,c=color,lw=0.5,zorder=-3,alpha=0.8-0.4*((len(tests_)-j)/len(tests_)), label=metadata.loc[test]['Nice name'])\n",
    "        ax.fill_between(x,v+e,v-e,color=color,lw=1,zorder=-3,alpha=0.6-0.45*((len(tests_)-j)/len(tests_)))\n",
    "        max_min = np.argmax([np.abs(0.5 - v.max()),np.abs(0.5-v.min())])\n",
    "        xl      = np.array([v.idxmax(),v.idxmin()])[max_min]\n",
    "        yl      = np.array([v.max(),v.min()])[max_min]\n",
    "        texts.append(ax.text(xl,yl,metadata.loc[test]['Nice name'],ha='center',fontsize=10,color=color,alpha=0.8-0.4*((len(tests_)-j)/len(tests_))))\n",
    "    \n",
    "    ax.set_yticks(np.arange(-0.5,0.75,0.25)); ax.set_ylabel('Quantile Change', fontsize=12); ax.set_ylim([-0.5,0.5]); ax.set_yticklabels(ax.get_yticklabels(), fontsize=10)\n",
    "    ax.set_xticks(np.arange(-40,81,20)) ; ax.set_xlabel('Weeks postpartum', fontsize=12); ax.set_xlim([-60,80]);ax.set_xticklabels(ax.get_xticklabels(), fontsize=10)\n",
    "    ax.axvspan(-38,0,color='dimgray',alpha=0.1,zorder=-20)\n",
    "    ax.set_facecolor('w')\n",
    "    adjust_text(texts, ax=ax)\n",
    "    remove_top_right_frame([ax])\n",
    "    # legend = ax.legend(bbox_to_anchor=(1, 0.7), handlelength=2, fontsize=9, loc=\"upper left\")\n",
    "    # for line in legend.get_lines():\n",
    "    #     line.set_linewidth(2.8)\n",
    "    ax.text(-0.15,1.05, title,fontsize=11,color='k', fontweight=\"bold\", transform=ax.transAxes, ha=\"left\")\n",
    "    \n",
    "    if return_color:\n",
    "        colormapper = [(test,mapper.to_rgba(j))for j,test in enumerate(tests_)]\n",
    "        return colormapper"
   ]
  },
  {
   "cell_type": "code",
   "execution_count": null,
   "id": "f4ec8766-3adc-492a-809d-665864a02ce7",
   "metadata": {
    "ExecuteTime": {
     "end_time": "2024-10-28T13:39:20.247644Z",
     "start_time": "2024-10-28T13:39:06.835749Z"
    }
   },
   "outputs": [],
   "source": [
    "renal_tests = [['CREATININE_BLOOD', 'UREA_BLOOD','URIC_ACID_BLOOD', 'PH_u'], ['Na','K','Cl','MAGNESIUM_BLOOD','SPECIFIC_GRAVITY']]\n",
    "liver_tests = [['PROTEIN_TOTAL_BLOOD', 'ALBUMIN','GLOBULIN','ALT_Alanine_aminotransferase_GPT', 'AST_Aspartate_aminotransferase_GOT'],\n",
    "               ['BILIRUBIN_DIRECT','BILIRUBIN_INDIRECT','BILIRUBIN_TOTAL']]\n",
    "musculoskeletal_tests = [['PHOSPHATASE_ALKALINE', 'LACTIC_DEHYDROGENASE_LDH__BLOOD','PHOSPHORUS_BLOOD', 'CALCIUM_BLOOD','CK_CREAT']]\n",
    "rbcs_tests = [['RBC', 'HCT','MCV','MCH','RDW','HDW'],\n",
    "             ['FERRITIN','IRON','HGB','TRANSFERRIN','MCHC'],\n",
    "             ['MICR_perc','MICROperc_HYPOperc','MACROperc','HYPERperc', 'HYPO_perc','FOLIC_ACID']]\n",
    "immune_tests = [['NEUT'    ,'EOS'     ,'MONO'   ,'LYMP','BASOPHILES_abs','WBC'],\n",
    "                ['NEUTperc','EOS_perc','MONperc','LYMperc','BASO_perc'],\n",
    "                ['C_REACTIVE_PROTEIN_CRP','LUC','LUCperc','PCT']]\n",
    "coagulation_tests = [['FIBRINOGEN', 'PDW', 'MPV','PLT'], ['PT_SEC','APTT_R','APTT_sec','PT_INR']]\n",
    "metabolism_tests = [['TRIGLYCERIDES', 'CHOLESTEROL','CHOLESTEROL_HDL', 'CHOLESTEROL_LDL','NON_HDL_CHOLESTEROL'],\n",
    "                    ['GLUCOSE_BLOOD','HEMOGLOBIN_A1C_CALCULATED']]\n",
    "endocrine_tests = [[\"TSH_THYROID_STIMULATING_HORMONE\", \"T4_FREE\", \"T3_FREE\", \"T3_TOTAL\"]]\n",
    "\n",
    "system_tests = renal_tests + liver_tests + musculoskeletal_tests + rbcs_tests + immune_tests + coagulation_tests + metabolism_tests + endocrine_tests\n",
    "\n",
    "panels_per_row = 5\n",
    "total_rows = (len(system_tests) + 1) // panels_per_row +1\n",
    "inches_per_ax = 3\n",
    "fig, axss = plt.subplots(total_rows, panels_per_row, figsize=(panels_per_row * inches_per_ax, total_rows * inches_per_ax))\n",
    "\n",
    "for i, axs in enumerate(axss):\n",
    "    for j, ax in enumerate(axs):\n",
    "        ind = i * panels_per_row + j\n",
    "        if ind >= len(system_tests):\n",
    "            ax.set_axis_off()\n",
    "            continue\n",
    "        plot_tests = system_tests[ind]\n",
    "        plot_tests_one_axe(ax, plot_tests, string.ascii_uppercase[ind])\n",
    "        \n",
    "        if j > 0:\n",
    "            ax.set_ylabel('') \n",
    "            ax.set_yticklabels([])\n",
    "            ax.set_yticks([])\n",
    "        if ind + panels_per_row < len(system_tests):\n",
    "            ax.set_xlabel('') \n",
    "            ax.set_xticklabels([])\n",
    "            ax.set_xticks([])\n",
    "plt.subplots_adjust(wspace=0.3, hspace=0.4)\n",
    "plt.tight_layout(); plt.savefig('S2_system_by_system.svg',bbox_inches = 'tight',pad_inches=0.1,dpi=300); plt.show()"
   ]
  },
  {
   "cell_type": "markdown",
   "id": "494e9209-9911-4594-ac3d-bf9d9a07e8c6",
   "metadata": {},
   "source": [
    "## Following plots were not used"
   ]
  },
  {
   "cell_type": "code",
   "execution_count": null,
   "id": "050163e9-add1-4a42-b150-50b7c00b92ea",
   "metadata": {},
   "outputs": [],
   "source": [
    "#### Kidney \n",
    "plt.figure(figsize=(6,2.5))\n",
    "ax1  = plt.subplot(1,2,1)\n",
    "plot_tests_one_axe(ax1,['CREATININE_BLOOD', 'UREA_BLOOD','URIC_ACID_BLOOD', 'PH_u'], 'Renal I')\n",
    "ax2 = plt.subplot(1,2,2)\n",
    "plot_tests_one_axe(ax2, ['Na','K','Cl','MAGNESIUM_BLOOD','SPECIFIC_GRAVITY'],'Renal II')\n",
    "ax2.set_ylabel('') \n",
    "ax2.set_yticks([])\n",
    "# plt.tight_layout(); plt.savefig('M_6_Kidney_overview.svg',bbox_inches = 'tight',pad_inches=0.1,dpi=300); plt.show()"
   ]
  },
  {
   "cell_type": "code",
   "execution_count": null,
   "id": "e9af240a81f29a55",
   "metadata": {},
   "outputs": [],
   "source": [
    "#### Liver\n",
    "plt.figure(figsize=(6,2.5))\n",
    "ax1  = plt.subplot(1,2,1)\n",
    "plot_tests_one_axe(ax1,['PROTEIN_TOTAL_BLOOD', 'ALBUMIN','GLOBULIN','ALT_Alanine_aminotransferase_GPT', 'AST_Aspartate_aminotransferase_GOT'],'Liver I')\n",
    "\n",
    "\n",
    "ax2 = plt.subplot(1,2,2)\n",
    "plot_tests_one_axe(ax2,['BILIRUBIN_DIRECT','BILIRUBIN_INDIRECT','BILIRUBIN_TOTAL'],'Liver II')\n",
    "\n",
    "ax2.set_ylabel('') \n",
    "ax2.set_yticklabels([])\n",
    "ax2.set_yticks([]) \n",
    "# plt.tight_layout(); plt.savefig('M_6_Liver_overview.svg',bbox_inches = 'tight',pad_inches=0.1,dpi=300); plt.show()"
   ]
  },
  {
   "cell_type": "code",
   "execution_count": null,
   "id": "c4514adef45536b9",
   "metadata": {},
   "outputs": [],
   "source": [
    "#### Musculoskeletal\n",
    "plt.figure(figsize=(3,2.5))\n",
    "ax1 = plt.subplot(1,1,1)\n",
    "plot_tests_one_axe(ax1,['PHOSPHATASE_ALKALINE', 'LACTIC_DEHYDROGENASE_LDH__BLOOD','PHOSPHORUS_BLOOD',\n",
    "                        'CALCIUM_BLOOD','CK_CREAT'],'Musculoskeletal')\n",
    "# plt.tight_layout(); plt.savefig('M_6_Musculoskeletal_overview.svg',bbox_inches = 'tight',pad_inches=0.1,dpi=300); plt.show()"
   ]
  },
  {
   "cell_type": "code",
   "execution_count": null,
   "id": "84731f9bc1f6a593",
   "metadata": {},
   "outputs": [],
   "source": [
    "#### RBCs\n",
    "plt.figure(figsize=(9,2.5))\n",
    "ax1 = plt.subplot(1,3,1)\n",
    "plot_tests_one_axe(ax1,['RBC', 'HCT','MCV','MCH','RDW','HDW'],'RBCs I')\n",
    "ax2 = plt.subplot(1,3,2)\n",
    "plot_tests_one_axe(ax2,['FERRITIN','IRON','HGB','TRANSFERRIN','MCHC'],'RBCs II')\n",
    "ax2.set_ylabel('') \n",
    "ax2.set_yticklabels([])\n",
    "ax2.set_yticks([])  \n",
    "ax3 = plt.subplot(1,3,3)\n",
    "plot_tests_one_axe(ax3,['MICR_perc','MICROperc_HYPOperc','MACROperc','HYPERperc',\n",
    "                        'HYPO_perc','FOLIC_ACID'],'RBCs III')\n",
    "ax3.set_ylabel('') \n",
    "ax3.set_yticklabels([])\n",
    "ax3.set_yticks([]) \n",
    "plt.tight_layout()\n",
    "plt.show()\n",
    "plt.clf()\n",
    "# plt.tight_layout(); plt.savefig('M_6_RBCs_overview.pdf',bbox_inches = 'tight',pad_inches=0.1,dpi=300); plt.show()\n"
   ]
  },
  {
   "cell_type": "code",
   "execution_count": null,
   "id": "c88a4fe4af0f84e3",
   "metadata": {},
   "outputs": [],
   "source": [
    "#### Immune\n",
    "plt.figure(figsize=(9,2.5))\n",
    "ax1 = plt.subplot(1,3,1)\n",
    "\n",
    "col_d = plot_tests_one_axe(ax1,['NEUT'    ,'EOS'     ,'MONO'   ,'LYMP','BASOPHILES_abs','WBC'],'Immune I',return_color=True)\n",
    "plt.tight_layout()\n",
    "set_col_d = {'NEUTperc':col_d[0][1],\n",
    "             'EOS_perc':col_d[4][1],\n",
    "             'MONperc':col_d[3][1],\n",
    "             'LYMperc':col_d[2][1],\n",
    "             'BASO_perc':col_d[5][1]}\n",
    "\n",
    "ax2 = plt.subplot(1,3,2)\n",
    "plot_tests_one_axe(ax2,['NEUTperc','EOS_perc','MONperc','LYMperc','BASO_perc'],'Immune II',set_color=set_col_d)\n",
    "ax2.set_ylabel('') \n",
    "ax2.set_yticklabels([])\n",
    "ax2.set_yticks([]) \n",
    "ax3  = plt.subplot(1,3,3)\n",
    "plot_tests_one_axe(ax3,['C_REACTIVE_PROTEIN_CRP','LUC','LUCperc','PCT'],'Immune III') \n",
    "ax3.set_ylabel('') \n",
    "ax3.set_yticklabels([])\n",
    "ax3.set_yticks([]) \n",
    "plt.tight_layout()\n",
    "# plt.savefig('M_6_Immune_overview.svg',bbox_inches = 'tight',pad_inches=0.1,dpi=300)\n"
   ]
  },
  {
   "cell_type": "code",
   "execution_count": null,
   "id": "c26b86ea803dbf22",
   "metadata": {},
   "outputs": [],
   "source": [
    "#### Coagulation\n",
    "plt.figure(figsize=(6,2.5))\n",
    "ax1   = plt.subplot(1,2,1)\n",
    "plot_tests_one_axe(ax1,['FIBRINOGEN', 'PDW', 'MPV','PLT'],'Coagulation I')\n",
    "ax2 = plt.subplot(1,2,2)\n",
    "plot_tests_one_axe(ax2, ['PT_SEC','APTT_R','APTT_sec','PT_INR'], 'Coagulation II')\n",
    "ax2.set_ylabel(\"\")\n",
    "ax2.set_yticks([])\n",
    "# plt.tight_layout(); plt.savefig('M_6_Coagulation_overview.svg',bbox_inches = 'tight',pad_inches=0.1,dpi=300); plt.show()"
   ]
  },
  {
   "cell_type": "raw",
   "id": "e464b2e2-48c9-4ebe-aa9c-923ca6da8186",
   "metadata": {
    "ExecuteTime": {
     "end_time": "2024-01-24T08:39:22.598195800Z",
     "start_time": "2024-01-24T08:39:21.494207600Z"
    }
   },
   "source": [
    "#### Metabolism\n",
    "plt.figure(figsize=(9,2.5))\n",
    "ax1 = plt.subplot(1,3,1)\n",
    "plot_tests_one_axe(ax1,['TRIGLYCERIDES', 'CHOLESTEROL','CHOLESTEROL_HDL',\n",
    "                        'CHOLESTEROL_LDL','NON_HDL_CHOLESTEROL'],'Metabolism I')\n",
    "\n",
    "ax2 = plt.subplot(1,3,2)\n",
    "plot_tests_one_axe(ax2, ['GLUCOSE_BLOOD','HEMOGLOBIN_A1C_CALCULATED'], \"Metabolism II\")\n",
    "ax2.set_ylabel(\"\")\n",
    "ax2.set_yticks([])\n",
    "\n",
    "##Endocrine\n",
    "endocrine_tests = metadata.loc[tests][metadata.loc[tests][\"Group\"] == \"Endocrine\"].index.values\n",
    "ax3 = plt.subplot(1,3,3)\n",
    "plot_tests_one_axe(ax3,endocrine_tests,'Endocrine')\n",
    "ax3.set_ylabel('') \n",
    "ax3.set_yticklabels([])\n",
    "ax3.set_yticks([]) \n",
    "plt.tight_layout()\n",
    "# plt.savefig('M_6_Metabolism_overview.svg',bbox_inches = 'tight')\n",
    "plt.show()"
   ]
  }
 ],
 "metadata": {
  "kernelspec": {
   "display_name": "Python 3 (ipykernel)",
   "language": "python",
   "name": "python3"
  },
  "language_info": {
   "codemirror_mode": {
    "name": "ipython",
    "version": 3
   },
   "file_extension": ".py",
   "mimetype": "text/x-python",
   "name": "python",
   "nbconvert_exporter": "python",
   "pygments_lexer": "ipython3",
   "version": "3.9.19"
  }
 },
 "nbformat": 4,
 "nbformat_minor": 5
}
